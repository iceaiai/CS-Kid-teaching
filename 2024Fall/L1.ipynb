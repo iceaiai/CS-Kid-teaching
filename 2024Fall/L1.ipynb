{
  "nbformat": 4,
  "nbformat_minor": 0,
  "metadata": {
    "colab": {
      "provenance": [],
      "authorship_tag": "ABX9TyOYflCt2ax0534k7OtCtfWh",
      "include_colab_link": true
    },
    "kernelspec": {
      "name": "python3",
      "display_name": "Python 3"
    },
    "language_info": {
      "name": "python"
    },
    "widgets": {
      "application/vnd.jupyter.widget-state+json": {
        "157a7c093b2d43949a438d45d85dcc42": {
          "model_module": "@jupyter-widgets/controls",
          "model_name": "TextModel",
          "model_module_version": "1.5.0",
          "state": {
            "_dom_classes": [],
            "_model_module": "@jupyter-widgets/controls",
            "_model_module_version": "1.5.0",
            "_model_name": "TextModel",
            "_view_count": null,
            "_view_module": "@jupyter-widgets/controls",
            "_view_module_version": "1.5.0",
            "_view_name": "TextView",
            "continuous_update": true,
            "description": "Name:",
            "description_tooltip": null,
            "disabled": false,
            "layout": "IPY_MODEL_e0acb952019e43f3aec86ca441e4a60d",
            "placeholder": "Enter your full name",
            "style": "IPY_MODEL_5810b76fc12f471dac0f48c2c8d51650",
            "value": ""
          }
        },
        "e0acb952019e43f3aec86ca441e4a60d": {
          "model_module": "@jupyter-widgets/base",
          "model_name": "LayoutModel",
          "model_module_version": "1.2.0",
          "state": {
            "_model_module": "@jupyter-widgets/base",
            "_model_module_version": "1.2.0",
            "_model_name": "LayoutModel",
            "_view_count": null,
            "_view_module": "@jupyter-widgets/base",
            "_view_module_version": "1.2.0",
            "_view_name": "LayoutView",
            "align_content": null,
            "align_items": null,
            "align_self": null,
            "border": null,
            "bottom": null,
            "display": null,
            "flex": null,
            "flex_flow": null,
            "grid_area": null,
            "grid_auto_columns": null,
            "grid_auto_flow": null,
            "grid_auto_rows": null,
            "grid_column": null,
            "grid_gap": null,
            "grid_row": null,
            "grid_template_areas": null,
            "grid_template_columns": null,
            "grid_template_rows": null,
            "height": null,
            "justify_content": null,
            "justify_items": null,
            "left": null,
            "margin": null,
            "max_height": null,
            "max_width": null,
            "min_height": null,
            "min_width": null,
            "object_fit": null,
            "object_position": null,
            "order": null,
            "overflow": null,
            "overflow_x": null,
            "overflow_y": null,
            "padding": null,
            "right": null,
            "top": null,
            "visibility": null,
            "width": null
          }
        },
        "5810b76fc12f471dac0f48c2c8d51650": {
          "model_module": "@jupyter-widgets/controls",
          "model_name": "DescriptionStyleModel",
          "model_module_version": "1.5.0",
          "state": {
            "_model_module": "@jupyter-widgets/controls",
            "_model_module_version": "1.5.0",
            "_model_name": "DescriptionStyleModel",
            "_view_count": null,
            "_view_module": "@jupyter-widgets/base",
            "_view_module_version": "1.2.0",
            "_view_name": "StyleView",
            "description_width": ""
          }
        },
        "01eb50c1ef8248ce8e957b93145460bc": {
          "model_module": "@jupyter-widgets/controls",
          "model_name": "ButtonModel",
          "model_module_version": "1.5.0",
          "state": {
            "_dom_classes": [],
            "_model_module": "@jupyter-widgets/controls",
            "_model_module_version": "1.5.0",
            "_model_name": "ButtonModel",
            "_view_count": null,
            "_view_module": "@jupyter-widgets/controls",
            "_view_module_version": "1.5.0",
            "_view_name": "ButtonView",
            "button_style": "success",
            "description": "Confirm",
            "disabled": false,
            "icon": "",
            "layout": "IPY_MODEL_984a5e30cfa84ddc9ff9fd92cf0b1f54",
            "style": "IPY_MODEL_97057760bb734cc7beabfcaa57d84036",
            "tooltip": ""
          }
        },
        "984a5e30cfa84ddc9ff9fd92cf0b1f54": {
          "model_module": "@jupyter-widgets/base",
          "model_name": "LayoutModel",
          "model_module_version": "1.2.0",
          "state": {
            "_model_module": "@jupyter-widgets/base",
            "_model_module_version": "1.2.0",
            "_model_name": "LayoutModel",
            "_view_count": null,
            "_view_module": "@jupyter-widgets/base",
            "_view_module_version": "1.2.0",
            "_view_name": "LayoutView",
            "align_content": null,
            "align_items": null,
            "align_self": null,
            "border": null,
            "bottom": null,
            "display": null,
            "flex": null,
            "flex_flow": null,
            "grid_area": null,
            "grid_auto_columns": null,
            "grid_auto_flow": null,
            "grid_auto_rows": null,
            "grid_column": null,
            "grid_gap": null,
            "grid_row": null,
            "grid_template_areas": null,
            "grid_template_columns": null,
            "grid_template_rows": null,
            "height": null,
            "justify_content": null,
            "justify_items": null,
            "left": null,
            "margin": null,
            "max_height": null,
            "max_width": null,
            "min_height": null,
            "min_width": null,
            "object_fit": null,
            "object_position": null,
            "order": null,
            "overflow": null,
            "overflow_x": null,
            "overflow_y": null,
            "padding": null,
            "right": null,
            "top": null,
            "visibility": null,
            "width": null
          }
        },
        "97057760bb734cc7beabfcaa57d84036": {
          "model_module": "@jupyter-widgets/controls",
          "model_name": "ButtonStyleModel",
          "model_module_version": "1.5.0",
          "state": {
            "_model_module": "@jupyter-widgets/controls",
            "_model_module_version": "1.5.0",
            "_model_name": "ButtonStyleModel",
            "_view_count": null,
            "_view_module": "@jupyter-widgets/base",
            "_view_module_version": "1.2.0",
            "_view_name": "StyleView",
            "button_color": null,
            "font_weight": ""
          }
        },
        "e2ec603715784ef184a2e158a10c9f1d": {
          "model_module": "@jupyter-widgets/controls",
          "model_name": "DropdownModel",
          "model_module_version": "1.5.0",
          "state": {
            "_dom_classes": [],
            "_model_module": "@jupyter-widgets/controls",
            "_model_module_version": "1.5.0",
            "_model_name": "DropdownModel",
            "_options_labels": [
              "",
              "mengkun tian",
              "aaron tian"
            ],
            "_view_count": null,
            "_view_module": "@jupyter-widgets/controls",
            "_view_module_version": "1.5.0",
            "_view_name": "DropdownView",
            "description": "Delete Name:",
            "description_tooltip": null,
            "disabled": false,
            "index": 0,
            "layout": "IPY_MODEL_043107ea5fa549d283a9d07c12e0b39e",
            "style": "IPY_MODEL_6087730e43b44a88a9f9b832eaa21825"
          }
        },
        "043107ea5fa549d283a9d07c12e0b39e": {
          "model_module": "@jupyter-widgets/base",
          "model_name": "LayoutModel",
          "model_module_version": "1.2.0",
          "state": {
            "_model_module": "@jupyter-widgets/base",
            "_model_module_version": "1.2.0",
            "_model_name": "LayoutModel",
            "_view_count": null,
            "_view_module": "@jupyter-widgets/base",
            "_view_module_version": "1.2.0",
            "_view_name": "LayoutView",
            "align_content": null,
            "align_items": null,
            "align_self": null,
            "border": null,
            "bottom": null,
            "display": null,
            "flex": null,
            "flex_flow": null,
            "grid_area": null,
            "grid_auto_columns": null,
            "grid_auto_flow": null,
            "grid_auto_rows": null,
            "grid_column": null,
            "grid_gap": null,
            "grid_row": null,
            "grid_template_areas": null,
            "grid_template_columns": null,
            "grid_template_rows": null,
            "height": null,
            "justify_content": null,
            "justify_items": null,
            "left": null,
            "margin": null,
            "max_height": null,
            "max_width": null,
            "min_height": null,
            "min_width": null,
            "object_fit": null,
            "object_position": null,
            "order": null,
            "overflow": null,
            "overflow_x": null,
            "overflow_y": null,
            "padding": null,
            "right": null,
            "top": null,
            "visibility": null,
            "width": null
          }
        },
        "6087730e43b44a88a9f9b832eaa21825": {
          "model_module": "@jupyter-widgets/controls",
          "model_name": "DescriptionStyleModel",
          "model_module_version": "1.5.0",
          "state": {
            "_model_module": "@jupyter-widgets/controls",
            "_model_module_version": "1.5.0",
            "_model_name": "DescriptionStyleModel",
            "_view_count": null,
            "_view_module": "@jupyter-widgets/base",
            "_view_module_version": "1.2.0",
            "_view_name": "StyleView",
            "description_width": ""
          }
        },
        "946296008def4b199d0fa094f55bce7e": {
          "model_module": "@jupyter-widgets/controls",
          "model_name": "ButtonModel",
          "model_module_version": "1.5.0",
          "state": {
            "_dom_classes": [],
            "_model_module": "@jupyter-widgets/controls",
            "_model_module_version": "1.5.0",
            "_model_name": "ButtonModel",
            "_view_count": null,
            "_view_module": "@jupyter-widgets/controls",
            "_view_module_version": "1.5.0",
            "_view_name": "ButtonView",
            "button_style": "danger",
            "description": "Delete",
            "disabled": false,
            "icon": "",
            "layout": "IPY_MODEL_db08c037ab8649cc91d6b037d2b7a90c",
            "style": "IPY_MODEL_ec66d7e0e4b445a599a70363f20d84b8",
            "tooltip": ""
          }
        },
        "db08c037ab8649cc91d6b037d2b7a90c": {
          "model_module": "@jupyter-widgets/base",
          "model_name": "LayoutModel",
          "model_module_version": "1.2.0",
          "state": {
            "_model_module": "@jupyter-widgets/base",
            "_model_module_version": "1.2.0",
            "_model_name": "LayoutModel",
            "_view_count": null,
            "_view_module": "@jupyter-widgets/base",
            "_view_module_version": "1.2.0",
            "_view_name": "LayoutView",
            "align_content": null,
            "align_items": null,
            "align_self": null,
            "border": null,
            "bottom": null,
            "display": null,
            "flex": null,
            "flex_flow": null,
            "grid_area": null,
            "grid_auto_columns": null,
            "grid_auto_flow": null,
            "grid_auto_rows": null,
            "grid_column": null,
            "grid_gap": null,
            "grid_row": null,
            "grid_template_areas": null,
            "grid_template_columns": null,
            "grid_template_rows": null,
            "height": null,
            "justify_content": null,
            "justify_items": null,
            "left": null,
            "margin": null,
            "max_height": null,
            "max_width": null,
            "min_height": null,
            "min_width": null,
            "object_fit": null,
            "object_position": null,
            "order": null,
            "overflow": null,
            "overflow_x": null,
            "overflow_y": null,
            "padding": null,
            "right": null,
            "top": null,
            "visibility": null,
            "width": null
          }
        },
        "ec66d7e0e4b445a599a70363f20d84b8": {
          "model_module": "@jupyter-widgets/controls",
          "model_name": "ButtonStyleModel",
          "model_module_version": "1.5.0",
          "state": {
            "_model_module": "@jupyter-widgets/controls",
            "_model_module_version": "1.5.0",
            "_model_name": "ButtonStyleModel",
            "_view_count": null,
            "_view_module": "@jupyter-widgets/base",
            "_view_module_version": "1.2.0",
            "_view_name": "StyleView",
            "button_color": null,
            "font_weight": ""
          }
        },
        "64c55e78688545d3965b6ac6ae6a6f6d": {
          "model_module": "@jupyter-widgets/output",
          "model_name": "OutputModel",
          "model_module_version": "1.0.0",
          "state": {
            "_dom_classes": [],
            "_model_module": "@jupyter-widgets/output",
            "_model_module_version": "1.0.0",
            "_model_name": "OutputModel",
            "_view_count": null,
            "_view_module": "@jupyter-widgets/output",
            "_view_module_version": "1.0.0",
            "_view_name": "OutputView",
            "layout": "IPY_MODEL_e1b767c327804053bc76f2e842578bbf",
            "msg_id": "",
            "outputs": []
          }
        },
        "e1b767c327804053bc76f2e842578bbf": {
          "model_module": "@jupyter-widgets/base",
          "model_name": "LayoutModel",
          "model_module_version": "1.2.0",
          "state": {
            "_model_module": "@jupyter-widgets/base",
            "_model_module_version": "1.2.0",
            "_model_name": "LayoutModel",
            "_view_count": null,
            "_view_module": "@jupyter-widgets/base",
            "_view_module_version": "1.2.0",
            "_view_name": "LayoutView",
            "align_content": null,
            "align_items": null,
            "align_self": null,
            "border": null,
            "bottom": null,
            "display": null,
            "flex": null,
            "flex_flow": null,
            "grid_area": null,
            "grid_auto_columns": null,
            "grid_auto_flow": null,
            "grid_auto_rows": null,
            "grid_column": null,
            "grid_gap": null,
            "grid_row": null,
            "grid_template_areas": null,
            "grid_template_columns": null,
            "grid_template_rows": null,
            "height": null,
            "justify_content": null,
            "justify_items": null,
            "left": null,
            "margin": null,
            "max_height": null,
            "max_width": null,
            "min_height": null,
            "min_width": null,
            "object_fit": null,
            "object_position": null,
            "order": null,
            "overflow": null,
            "overflow_x": null,
            "overflow_y": null,
            "padding": null,
            "right": null,
            "top": null,
            "visibility": null,
            "width": null
          }
        }
      }
    }
  },
  "cells": [
    {
      "cell_type": "markdown",
      "metadata": {
        "id": "view-in-github",
        "colab_type": "text"
      },
      "source": [
        "<a href=\"https://colab.research.google.com/github/iceaiai/CS-Kid-teaching/blob/main/2024Fall/L1.ipynb\" target=\"_parent\"><img src=\"https://colab.research.google.com/assets/colab-badge.svg\" alt=\"Open In Colab\"/></a>"
      ]
    },
    {
      "cell_type": "code",
      "execution_count": null,
      "metadata": {
        "colab": {
          "base_uri": "https://localhost:8080/"
        },
        "id": "FD-zwzrn6lCE",
        "outputId": "b484842c-3bb9-4450-e954-d98abc993b90"
      },
      "outputs": [
        {
          "output_type": "stream",
          "name": "stdout",
          "text": [
            "Hello world\n"
          ]
        }
      ],
      "source": [
        "print ('Hello world')"
      ]
    },
    {
      "cell_type": "markdown",
      "source": [
        "## Signing in your name"
      ],
      "metadata": {
        "id": "tR6zqm9puQqt"
      }
    },
    {
      "cell_type": "code",
      "source": [
        "import ipywidgets as widgets\n",
        "from IPython.display import display\n",
        "\n",
        "# Initialize name_list if not already initialized\n",
        "if 'name_list' not in globals() and 'name_list' not in locals():\n",
        "    name_list = []\n",
        "\n",
        "# Create input widget for the user's name\n",
        "name_input = widgets.Text(\n",
        "    value='',\n",
        "    placeholder='Enter your full name',\n",
        "    description='Name:',\n",
        "    disabled=False\n",
        ")\n",
        "\n",
        "# Create a button to confirm the addition of a name\n",
        "confirm_button = widgets.Button(\n",
        "    description='Confirm',\n",
        "    disabled=False,\n",
        "    button_style='success'\n",
        ")\n",
        "\n",
        "# Create output widget to display the list\n",
        "output = widgets.Output()\n",
        "\n",
        "# Create a dropdown widget to select names for deletion (initially empty)\n",
        "delete_name_dropdown = widgets.Dropdown(\n",
        "    options=[''],  # Empty option to prevent accidental deletions\n",
        "    description='Delete Name:',\n",
        "    disabled=False\n",
        ")\n",
        "\n",
        "# Create a button to trigger deletion\n",
        "delete_button = widgets.Button(\n",
        "    description='Delete',\n",
        "    disabled=True,  # Disabled until there is something to delete\n",
        "    button_style='danger'\n",
        ")\n",
        "\n",
        "# Function to update the dropdown options based on the current name_list\n",
        "def update_dropdown_options():\n",
        "    if name_list:\n",
        "        delete_name_dropdown.options = [''] + name_list\n",
        "        delete_button.disabled = False\n",
        "    else:\n",
        "        delete_name_dropdown.options = ['']\n",
        "        delete_button.disabled = True\n",
        "\n",
        "# Define a function to handle adding a new name\n",
        "def on_confirm_clicked(b):\n",
        "    with output:\n",
        "        # Clear previous output\n",
        "        output.clear_output()\n",
        "        # Get the input value\n",
        "        your_name = name_input.value.strip()  # Strip any extra spaces\n",
        "        if your_name and your_name not in name_list:  # Check if the input is not empty and not a duplicate\n",
        "            # Append only the original name to name_list\n",
        "            name_list.append(your_name)\n",
        "            # Update the dropdown options\n",
        "            update_dropdown_options()\n",
        "            # Display the updated list\n",
        "            print(\"Name pool:\", name_list)\n",
        "        name_input.value = ''  # Clear the input field\n",
        "\n",
        "# Define a function to handle deleting a name\n",
        "def on_delete_clicked(b):\n",
        "    with output:\n",
        "        # Clear previous output\n",
        "        output.clear_output()\n",
        "        # Remove the selected name from the list\n",
        "        name_to_delete = delete_name_dropdown.value\n",
        "        if name_to_delete in name_list:\n",
        "            name_list.remove(name_to_delete)\n",
        "        # Update the dropdown options\n",
        "        update_dropdown_options()\n",
        "        # Display the updated list\n",
        "        print(\"Name pool:\", name_list)\n",
        "\n",
        "# Attach the handlers to the widgets\n",
        "confirm_button.on_click(on_confirm_clicked)\n",
        "delete_button.on_click(on_delete_clicked)\n",
        "\n",
        "# Update dropdown initially\n",
        "update_dropdown_options()\n",
        "\n",
        "# Display the widgets\n",
        "display(name_input, confirm_button, delete_name_dropdown, delete_button, output)\n"
      ],
      "metadata": {
        "id": "YCfMJP6Swr9a",
        "outputId": "43fef28f-9521-4261-f9c7-b8e06f0926e6",
        "colab": {
          "base_uri": "https://localhost:8080/",
          "height": 145,
          "referenced_widgets": [
            "157a7c093b2d43949a438d45d85dcc42",
            "e0acb952019e43f3aec86ca441e4a60d",
            "5810b76fc12f471dac0f48c2c8d51650",
            "01eb50c1ef8248ce8e957b93145460bc",
            "984a5e30cfa84ddc9ff9fd92cf0b1f54",
            "97057760bb734cc7beabfcaa57d84036",
            "e2ec603715784ef184a2e158a10c9f1d",
            "043107ea5fa549d283a9d07c12e0b39e",
            "6087730e43b44a88a9f9b832eaa21825",
            "946296008def4b199d0fa094f55bce7e",
            "db08c037ab8649cc91d6b037d2b7a90c",
            "ec66d7e0e4b445a599a70363f20d84b8",
            "64c55e78688545d3965b6ac6ae6a6f6d",
            "e1b767c327804053bc76f2e842578bbf"
          ]
        }
      },
      "execution_count": 1,
      "outputs": [
        {
          "output_type": "display_data",
          "data": {
            "text/plain": [
              "Text(value='', description='Name:', placeholder='Enter your full name')"
            ],
            "application/vnd.jupyter.widget-view+json": {
              "version_major": 2,
              "version_minor": 0,
              "model_id": "157a7c093b2d43949a438d45d85dcc42"
            }
          },
          "metadata": {}
        },
        {
          "output_type": "display_data",
          "data": {
            "text/plain": [
              "Button(button_style='success', description='Confirm', style=ButtonStyle())"
            ],
            "application/vnd.jupyter.widget-view+json": {
              "version_major": 2,
              "version_minor": 0,
              "model_id": "01eb50c1ef8248ce8e957b93145460bc"
            }
          },
          "metadata": {}
        },
        {
          "output_type": "display_data",
          "data": {
            "text/plain": [
              "Dropdown(description='Delete Name:', options=('',), value='')"
            ],
            "application/vnd.jupyter.widget-view+json": {
              "version_major": 2,
              "version_minor": 0,
              "model_id": "e2ec603715784ef184a2e158a10c9f1d"
            }
          },
          "metadata": {}
        },
        {
          "output_type": "display_data",
          "data": {
            "text/plain": [
              "Button(button_style='danger', description='Delete', disabled=True, style=ButtonStyle())"
            ],
            "application/vnd.jupyter.widget-view+json": {
              "version_major": 2,
              "version_minor": 0,
              "model_id": "946296008def4b199d0fa094f55bce7e"
            }
          },
          "metadata": {}
        },
        {
          "output_type": "display_data",
          "data": {
            "text/plain": [
              "Output()"
            ],
            "application/vnd.jupyter.widget-view+json": {
              "version_major": 2,
              "version_minor": 0,
              "model_id": "64c55e78688545d3965b6ac6ae6a6f6d"
            }
          },
          "metadata": {}
        }
      ]
    }
  ]
}