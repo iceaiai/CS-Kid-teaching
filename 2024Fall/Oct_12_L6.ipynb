{
  "nbformat": 4,
  "nbformat_minor": 0,
  "metadata": {
    "colab": {
      "provenance": [],
      "authorship_tag": "ABX9TyOIQ7WIkMbCGIjs7GNOYmY4",
      "include_colab_link": true
    },
    "kernelspec": {
      "name": "python3",
      "display_name": "Python 3"
    },
    "language_info": {
      "name": "python"
    }
  },
  "cells": [
    {
      "cell_type": "markdown",
      "metadata": {
        "id": "view-in-github",
        "colab_type": "text"
      },
      "source": [
        "<a href=\"https://colab.research.google.com/github/iceaiai/CS-Kid-teaching/blob/main/2024Fall/Oct_12_L6.ipynb\" target=\"_parent\"><img src=\"https://colab.research.google.com/assets/colab-badge.svg\" alt=\"Open In Colab\"/></a>"
      ]
    },
    {
      "cell_type": "markdown",
      "source": [
        "#Simple Version – Shifting Elements\n",
        "Function encoded_password help you to change your frequently used pwd into new one."
      ],
      "metadata": {
        "id": "9WGMUgCIzPHm"
      }
    },
    {
      "cell_type": "code",
      "execution_count": 2,
      "metadata": {
        "colab": {
          "base_uri": "https://localhost:8080/"
        },
        "id": "t0_8n4WGyqYE",
        "outputId": "cef80ff3-c521-469c-e86e-8751ef23edbd"
      },
      "outputs": [
        {
          "output_type": "stream",
          "name": "stdout",
          "text": [
            "sdvvzrug456$\n"
          ]
        }
      ],
      "source": [
        "def shift_elements_password(password, shift):\n",
        "    characters = list('abcdefghijklmnopqrstuvwxyz0123456789!@#$%&*')\n",
        "    shifted_password = []\n",
        "    for char in password:\n",
        "        if char in characters:\n",
        "            shifted_password.append(characters[(characters.index(char) + shift) % len(characters)])\n",
        "        else:\n",
        "            shifted_password.append(char)  # If it's a non-listed character, keep it the same\n",
        "    return ''.join(shifted_password)\n",
        "\n",
        "# Example usage\n",
        "password = \"password123!\"\n",
        "encoded_password = shift_elements_password(password, 3)\n",
        "print(encoded_password)\n"
      ]
    },
    {
      "cell_type": "markdown",
      "source": [
        "The following code help you to recover your pwd."
      ],
      "metadata": {
        "id": "UVjRoM8izwpt"
      }
    },
    {
      "cell_type": "code",
      "source": [
        "def decode_shift_elements_password(encoded_password, shift):\n",
        "    characters = list('abcdefghijklmnopqrstuvwxyz0123456789!@#$%&*')\n",
        "    decoded_password = []\n",
        "    for char in encoded_password:\n",
        "        if char in characters:\n",
        "            decoded_password.append(characters[(characters.index(char) - shift) % len(characters)])\n",
        "        else:\n",
        "            decoded_password.append(char)\n",
        "    return ''.join(decoded_password)\n",
        "\n",
        "# Example usage\n",
        "encoded_password = 'sdvvzrug456$'\n",
        "decoded_password = decode_shift_elements_password(encoded_password, 3)\n",
        "print(decoded_password)\n"
      ],
      "metadata": {
        "colab": {
          "base_uri": "https://localhost:8080/"
        },
        "id": "uqDdFVawztyq",
        "outputId": "9fc0c8fb-b6f4-4c94-e637-c2c1cfaf5f45"
      },
      "execution_count": 4,
      "outputs": [
        {
          "output_type": "stream",
          "name": "stdout",
          "text": [
            "password123!\n"
          ]
        }
      ]
    },
    {
      "cell_type": "markdown",
      "source": [
        "#Shift Based on Vowels and Consonants\n",
        "We’ll shift vowels by 2 places and consonants by 2+1 places."
      ],
      "metadata": {
        "id": "JBHbznyy0DmW"
      }
    },
    {
      "cell_type": "code",
      "source": [
        "def shift_vowels_consonants_password_with_flags(password, n):\n",
        "    vowels = 'aeiou'\n",
        "    characters = list('abcdefghijklmnopqrstuvwxyz0123456789!@#$%&*')\n",
        "    shifted_password = []\n",
        "    flags = []  # Track vowels, consonants, or other symbols\n",
        "\n",
        "    for char in password:\n",
        "        if char in vowels:\n",
        "            shifted_password.append(characters[(characters.index(char) + n) % len(characters)])\n",
        "            flags.append('vowel')\n",
        "        elif char.isalpha():\n",
        "            shifted_password.append(characters[(characters.index(char) + n + 1) % len(characters)])\n",
        "            flags.append('consonant')\n",
        "        else:\n",
        "            shifted_password.append(char)\n",
        "            flags.append('other')\n",
        "    return ''.join(shifted_password), flags\n",
        "\n",
        "# Example usage\n",
        "password = \"hello123!\"\n",
        "encoded_password, flags = shift_vowels_consonants_password_with_flags(password, 2)\n",
        "print(encoded_password)\n",
        "\n"
      ],
      "metadata": {
        "colab": {
          "base_uri": "https://localhost:8080/"
        },
        "id": "lNUPYwbj0IqZ",
        "outputId": "26320ba8-cd36-4bb7-d76e-fedfb2e9b9fc"
      },
      "execution_count": 9,
      "outputs": [
        {
          "output_type": "stream",
          "name": "stdout",
          "text": [
            "kgooq123!\n"
          ]
        }
      ]
    },
    {
      "cell_type": "code",
      "source": [
        "# Recover the pwd\n",
        "def decode_vowels_consonants_password_with_flags(encoded_password, flags, n):\n",
        "    vowels = 'aeiou'\n",
        "    characters = list('abcdefghijklmnopqrstuvwxyz0123456789!@#$%&*')\n",
        "    decoded_password = []\n",
        "\n",
        "    for i, char in enumerate(encoded_password):\n",
        "        if flags[i] == 'vowel':\n",
        "            decoded_password.append(characters[(characters.index(char) - n) % len(characters)])\n",
        "        elif flags[i] == 'consonant':\n",
        "            decoded_password.append(characters[(characters.index(char) - n - 1) % len(characters)])\n",
        "        else:\n",
        "            decoded_password.append(char)\n",
        "\n",
        "    return ''.join(decoded_password)\n",
        "\n",
        "# Example usage\n",
        "decoded_password = decode_vowels_consonants_password_with_flags(encoded_password, flags, 2)\n",
        "print(decoded_password)  # This should now output \"hello123!\"\n"
      ],
      "metadata": {
        "colab": {
          "base_uri": "https://localhost:8080/"
        },
        "id": "anGY11On0N7h",
        "outputId": "8d83d4d2-02b8-402c-9d23-233250dbb9c1"
      },
      "execution_count": 12,
      "outputs": [
        {
          "output_type": "stream",
          "name": "stdout",
          "text": [
            "hello123!\n"
          ]
        }
      ]
    }
  ]
}