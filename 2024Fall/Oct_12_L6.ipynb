{
  "nbformat": 4,
  "nbformat_minor": 0,
  "metadata": {
    "colab": {
      "provenance": [],
      "authorship_tag": "ABX9TyP4yP5QYV9rLFMmsonUergP",
      "include_colab_link": true
    },
    "kernelspec": {
      "name": "python3",
      "display_name": "Python 3"
    },
    "language_info": {
      "name": "python"
    }
  },
  "cells": [
    {
      "cell_type": "markdown",
      "metadata": {
        "id": "view-in-github",
        "colab_type": "text"
      },
      "source": [
        "<a href=\"https://colab.research.google.com/github/iceaiai/CS-Kid-teaching/blob/main/2024Fall/Oct_12_L6.ipynb\" target=\"_parent\"><img src=\"https://colab.research.google.com/assets/colab-badge.svg\" alt=\"Open In Colab\"/></a>"
      ]
    },
    {
      "cell_type": "markdown",
      "source": [
        "#Simple Version – Shifting Elements\n",
        "Function encoded_password help you to change your frequently used pwd into new one."
      ],
      "metadata": {
        "id": "9WGMUgCIzPHm"
      }
    },
    {
      "cell_type": "code",
      "execution_count": 77,
      "metadata": {
        "colab": {
          "base_uri": "https://localhost:8080/"
        },
        "id": "t0_8n4WGyqYE",
        "outputId": "8a63a462-9bb8-4b50-81e8-2ee2e65c7c29"
      },
      "outputs": [
        {
          "output_type": "stream",
          "name": "stdout",
          "text": [
            "cctqp ku c  dqa\n"
          ]
        }
      ],
      "source": [
        "def shift_elements_password(password, shift):\n",
        "    characters = list('abcdefghijklmnopqrstuvwxyz')#0123456789!@#$%&*')\n",
        "    shifted_password = []\n",
        "    for char in password:\n",
        "        if char in characters:\n",
        "            shifted_password.append(characters[(characters.index(char) + shift) % len(characters)])\n",
        "        else:\n",
        "            shifted_password.append(char)  # If it's a non-listed character, keep it the same\n",
        "    return ''.join(shifted_password)\n",
        "\n",
        "# Example usage\n",
        "password = \"aaron\"\n",
        "l1= 'aaron'\n",
        "l2 = 'is'\n",
        "l3 = 'a'\n",
        "l4 = ' boy'\n",
        "encoded_password = shift_elements_password(password, 2)\n",
        "result1, result2, result3,result4 = shift_elements_password(l1, 2),shift_elements_password(l2, 2),shift_elements_password(l3, 2),shift_elements_password(l4, 2)\n",
        "print(result1, result2, result3,result4 )\n"
      ]
    },
    {
      "cell_type": "markdown",
      "source": [
        "The following code help you to recover your pwd."
      ],
      "metadata": {
        "id": "UVjRoM8izwpt"
      }
    },
    {
      "cell_type": "code",
      "source": [
        "def decode_shift_elements_password(encoded_password, shift):\n",
        "    characters = list('abcdefghijklmnopqrstuvwxyz')#0123456789!@#$%&*')\n",
        "    decoded_password = []\n",
        "    for char in encoded_password:\n",
        "        if char in characters:\n",
        "            decoded_password.append(characters[(characters.index(char) - shift) % len(characters)])\n",
        "        else:\n",
        "            decoded_password.append(char)\n",
        "    return ''.join(decoded_password)\n",
        "\n",
        "# Example usage\n",
        "#encoded_password = '6789!@rfllnj*'\n",
        "decoded_password = decode_shift_elements_password(encoded_password, 2)\n",
        "print(decoded_password)\n"
      ],
      "metadata": {
        "colab": {
          "base_uri": "https://localhost:8080/"
        },
        "id": "uqDdFVawztyq",
        "outputId": "f887de58-1d80-4d8b-b5cf-0a729b33681f"
      },
      "execution_count": 76,
      "outputs": [
        {
          "output_type": "stream",
          "name": "stdout",
          "text": [
            "aaron\n"
          ]
        }
      ]
    },
    {
      "cell_type": "markdown",
      "source": [
        "#Shift Based on Vowels and Consonants\n",
        "We’ll shift vowels by 2 places and consonants by 2+1 places."
      ],
      "metadata": {
        "id": "JBHbznyy0DmW"
      }
    },
    {
      "cell_type": "code",
      "source": [
        "def shift_vowels_consonants_password_with_flags(password, n):\n",
        "    vowels = 'aeiou'\n",
        "    characters = list('abcdefghijklmnopqrstuvwxyz0123456789!@#$%&*')\n",
        "    shifted_password = []\n",
        "    flags = []  # Track vowels, consonants, or other symbols\n",
        "\n",
        "    for char in password:\n",
        "        if char in vowels:\n",
        "            shifted_password.append(characters[(characters.index(char) + n) % len(characters)])\n",
        "            flags.append('vowel')\n",
        "        elif char.isalpha():\n",
        "            shifted_password.append(characters[(characters.index(char) + n + 1) % len(characters)])\n",
        "            flags.append('consonant')\n",
        "        else:\n",
        "            shifted_password.append(char)\n",
        "            flags.append('other')\n",
        "    return ''.join(shifted_password), flags\n",
        "\n",
        "# Example usage\n",
        "password = \"hello123!\"\n",
        "encoded_password, flags = shift_vowels_consonants_password_with_flags(password, 2)\n",
        "print(encoded_password)\n",
        "\n"
      ],
      "metadata": {
        "colab": {
          "base_uri": "https://localhost:8080/"
        },
        "id": "lNUPYwbj0IqZ",
        "outputId": "bc4a55a7-f8ed-4e2d-950a-0496d710c325"
      },
      "execution_count": 68,
      "outputs": [
        {
          "output_type": "stream",
          "name": "stdout",
          "text": [
            "kgooq123!\n"
          ]
        }
      ]
    },
    {
      "cell_type": "code",
      "source": [
        "# Recover the pwd\n",
        "def decode_vowels_consonants_password_with_flags(encoded_password, flags, n):\n",
        "    vowels = 'aeiou'\n",
        "    characters = list('abcdefghijklmnopqrstuvwxyz0123456789!@#$%&*')\n",
        "    decoded_password = []\n",
        "\n",
        "    for i, char in enumerate(encoded_password):\n",
        "        if flags[i] == 'vowel':\n",
        "            decoded_password.append(characters[(characters.index(char) - n) % len(characters)])\n",
        "        elif flags[i] == 'consonant':\n",
        "            decoded_password.append(characters[(characters.index(char) - n - 1) % len(characters)])\n",
        "        else:\n",
        "            decoded_password.append(char)\n",
        "\n",
        "    return ''.join(decoded_password)\n",
        "\n",
        "# Example usage\n",
        "decoded_password = decode_vowels_consonants_password_with_flags(encoded_password, flags, 2)\n",
        "print(decoded_password)  # This should now output \"hello123!\"\n"
      ],
      "metadata": {
        "colab": {
          "base_uri": "https://localhost:8080/"
        },
        "id": "anGY11On0N7h",
        "outputId": "6bfdd861-89ca-4951-bd6b-7d3fa665f285"
      },
      "execution_count": 69,
      "outputs": [
        {
          "output_type": "stream",
          "name": "stdout",
          "text": [
            "hello123!\n"
          ]
        }
      ]
    },
    {
      "cell_type": "code",
      "source": [
        "def MT():\n",
        "  print(\"Hello\")\n",
        "MT()"
      ],
      "metadata": {
        "colab": {
          "base_uri": "https://localhost:8080/"
        },
        "id": "5faDUY9HAdM4",
        "outputId": "1e91aa53-e799-4281-92eb-0ab3e92029c4"
      },
      "execution_count": 22,
      "outputs": [
        {
          "output_type": "stream",
          "name": "stdout",
          "text": [
            "Hello\n"
          ]
        }
      ]
    },
    {
      "cell_type": "code",
      "source": [
        "def mama():\n",
        "  print('怎么了')\n",
        "mama()"
      ],
      "metadata": {
        "colab": {
          "base_uri": "https://localhost:8080/"
        },
        "id": "Ij3sKgldFqjS",
        "outputId": "fc100f27-aeff-43a5-f47d-09aab5af3dff"
      },
      "execution_count": 26,
      "outputs": [
        {
          "output_type": "stream",
          "name": "stdout",
          "text": [
            "怎么了\n"
          ]
        }
      ]
    },
    {
      "cell_type": "code",
      "source": [
        "def lunch():\n",
        "  return('吃饭')\n",
        "str = lunch()\n",
        "print(str)"
      ],
      "metadata": {
        "colab": {
          "base_uri": "https://localhost:8080/"
        },
        "id": "Pik8AJgnGEtH",
        "outputId": "532dacc5-42b0-48d6-a89c-7b556107f85d"
      },
      "execution_count": 33,
      "outputs": [
        {
          "output_type": "stream",
          "name": "stdout",
          "text": [
            "吃饭\n"
          ]
        }
      ]
    },
    {
      "cell_type": "code",
      "source": [
        "def addition(a,b):\n",
        "  result = a + b\n",
        "  return result\n",
        "print(addition(1111,220445))"
      ],
      "metadata": {
        "colab": {
          "base_uri": "https://localhost:8080/"
        },
        "id": "0iQ5fJMyGtA3",
        "outputId": "400cb404-f2e3-4628-bd5b-16780f563934"
      },
      "execution_count": 35,
      "outputs": [
        {
          "output_type": "stream",
          "name": "stdout",
          "text": [
            "221556\n"
          ]
        }
      ]
    },
    {
      "cell_type": "code",
      "source": [
        "def multi(a,b):\n",
        "  result = a*b\n",
        "  return result\n",
        "print(multi(3,3))"
      ],
      "metadata": {
        "colab": {
          "base_uri": "https://localhost:8080/"
        },
        "id": "h3j4l_j-HMx_",
        "outputId": "3a185d24-fd41-472d-9430-6982513fd784"
      },
      "execution_count": 38,
      "outputs": [
        {
          "output_type": "stream",
          "name": "stdout",
          "text": [
            "9\n"
          ]
        }
      ]
    },
    {
      "cell_type": "code",
      "source": [
        "def power(a,b):\n",
        "  result = a**b\n",
        "  return result\n",
        "print(power(5,5))"
      ],
      "metadata": {
        "colab": {
          "base_uri": "https://localhost:8080/"
        },
        "id": "b9VcVk3oHdz6",
        "outputId": "859bdab5-ae39-41c6-b92d-b9f391718a94"
      },
      "execution_count": 43,
      "outputs": [
        {
          "output_type": "stream",
          "name": "stdout",
          "text": [
            "3125\n"
          ]
        }
      ]
    },
    {
      "cell_type": "code",
      "source": [
        "#built-in function\n",
        "abs(-5)\n",
        "int(8.3)\n",
        "round(math.pi)"
      ],
      "metadata": {
        "colab": {
          "base_uri": "https://localhost:8080/"
        },
        "id": "Ay2huhF4IC23",
        "outputId": "853fdca8-2972-480d-9666-ec08503d3a52"
      },
      "execution_count": 56,
      "outputs": [
        {
          "output_type": "execute_result",
          "data": {
            "text/plain": [
              "3"
            ]
          },
          "metadata": {},
          "execution_count": 56
        }
      ]
    }
  ]
}