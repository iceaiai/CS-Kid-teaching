{
 "cells": [
  {
   "cell_type": "markdown",
   "id": "9da8b1c0",
   "metadata": {},
   "source": [
    "# Recap: Data container-list"
   ]
  },
  {
   "cell_type": "code",
   "execution_count": 1,
   "id": "c1fbc088",
   "metadata": {},
   "outputs": [],
   "source": [
    "your_name = ''"
   ]
  },
  {
   "cell_type": "code",
   "execution_count": 30,
   "id": "20f8293c",
   "metadata": {},
   "outputs": [],
   "source": [
    "students = ['Maggie','Lewis','Aaron','Wilsom']"
   ]
  },
  {
   "cell_type": "code",
   "execution_count": 3,
   "id": "496bad28",
   "metadata": {},
   "outputs": [],
   "source": [
    "rock_paper_scissors = ['rock','paper','scissors']"
   ]
  },
  {
   "cell_type": "code",
   "execution_count": 4,
   "id": "eccea03d",
   "metadata": {},
   "outputs": [],
   "source": [
    "Maggie = students[]"
   ]
  },
  {
   "cell_type": "code",
   "execution_count": 5,
   "id": "5e74e932",
   "metadata": {},
   "outputs": [],
   "source": [
    "paper= rock_paper_scissors[]"
   ]
  },
  {
   "cell_type": "code",
   "execution_count": 6,
   "id": "99b89228",
   "metadata": {},
   "outputs": [],
   "source": [
    "siblings = students[]"
   ]
  },
  {
   "cell_type": "code",
   "execution_count": 7,
   "id": "30d0b1f7",
   "metadata": {},
   "outputs": [],
   "source": [
    "boys =students[]"
   ]
  },
  {
   "cell_type": "markdown",
   "id": "073ac14b",
   "metadata": {},
   "source": [
    "# Recap: Data container-import function"
   ]
  },
  {
   "cell_type": "code",
   "execution_count": 9,
   "id": "07ec8be6",
   "metadata": {},
   "outputs": [],
   "source": [
    "import random"
   ]
  },
  {
   "cell_type": "code",
   "execution_count": 89,
   "id": "8b0b7ecf",
   "metadata": {},
   "outputs": [
    {
     "name": "stdout",
     "output_type": "stream",
     "text": [
      "first student is Maggie\n",
      "second student is Aaron\n"
     ]
    }
   ],
   "source": [
    "student1 = random.choice(students)\n",
    "print('first student is', student1)\n",
    "idx = students.index(student1)\n",
    "rest_students = students.copy()\n",
    "rest_students.pop(idx) #kick the student who was already selected\n",
    "student2 = random.choice(rest_students)\n",
    "print('second student is', student2)\n",
    "\n"
   ]
  },
  {
   "cell_type": "code",
   "execution_count": 90,
   "id": "819cab94",
   "metadata": {},
   "outputs": [
    {
     "name": "stdout",
     "output_type": "stream",
     "text": [
      "32\n"
     ]
    }
   ],
   "source": [
    "random_int = random.randint(1,100)\n",
    "print(random_int )"
   ]
  },
  {
   "cell_type": "markdown",
   "id": "b39ad9ce",
   "metadata": {},
   "source": [
    "# def function"
   ]
  },
  {
   "cell_type": "code",
   "execution_count": 62,
   "id": "152d4c34",
   "metadata": {},
   "outputs": [
    {
     "name": "stdout",
     "output_type": "stream",
     "text": [
      "Hello world!\n"
     ]
    }
   ],
   "source": [
    "def hello_world():\n",
    "    print('Hello world!')\n",
    "hello_world()"
   ]
  },
  {
   "cell_type": "code",
   "execution_count": 93,
   "id": "5e5cc72e",
   "metadata": {},
   "outputs": [
    {
     "name": "stdout",
     "output_type": "stream",
     "text": [
      "Hello world!\n"
     ]
    }
   ],
   "source": [
    "def hello_world(student:str): # :str is the hint for type of student\n",
    "    print('Hello world!')\n",
    "hello_world() #type something in the ()"
   ]
  },
  {
   "cell_type": "code",
   "execution_count": 94,
   "id": "bb0afc0c",
   "metadata": {},
   "outputs": [
    {
     "data": {
      "text/plain": [
       "16"
      ]
     },
     "execution_count": 94,
     "metadata": {},
     "output_type": "execute_result"
    }
   ],
   "source": [
    "def calculate_square(number:int or float):\n",
    "    square = number*number\n",
    "    return square\n",
    "calculate_square(4)"
   ]
  },
  {
   "cell_type": "code",
   "execution_count": 67,
   "id": "ee08b3c7",
   "metadata": {},
   "outputs": [
    {
     "data": {
      "text/plain": [
       "2.0"
      ]
     },
     "execution_count": 67,
     "metadata": {},
     "output_type": "execute_result"
    }
   ],
   "source": [
    "def calculate_squareroot(number):\n",
    "    squareroot = \n",
    "    return \n",
    "calculate_squareroot(4)"
   ]
  },
  {
   "cell_type": "code",
   "execution_count": 69,
   "id": "ecb1a195",
   "metadata": {},
   "outputs": [
    {
     "data": {
      "text/plain": [
       "32"
      ]
     },
     "execution_count": 69,
     "metadata": {},
     "output_type": "execute_result"
    }
   ],
   "source": [
    "def calculate_power(number,power):\n",
    "    result = \n",
    "    return \n",
    "calculate_power(2,5)"
   ]
  },
  {
   "cell_type": "markdown",
   "id": "a7ccdffb",
   "metadata": {},
   "source": [
    "# if statement"
   ]
  },
  {
   "cell_type": "code",
   "execution_count": 73,
   "id": "56bc1c2b",
   "metadata": {},
   "outputs": [
    {
     "name": "stdout",
     "output_type": "stream",
     "text": [
      "You are in 7th grade\n"
     ]
    }
   ],
   "source": [
    "def print_your_grade(student):\n",
    "    if student == 'Maggie':\n",
    "        print('You are in 7th grade')\n",
    "    elif student == 'Lewis'or student == 'Wilsom':\n",
    "        print('You are in 6th grade')\n",
    "    elif student == 'Aaron':\n",
    "        print('You are in 4th grade')\n",
    "    else:\n",
    "        print('Unknown')\n",
    "print_your_grade('')"
   ]
  },
  {
   "cell_type": "code",
   "execution_count": 74,
   "id": "b626ae4e",
   "metadata": {},
   "outputs": [
    {
     "name": "stdout",
     "output_type": "stream",
     "text": [
      "first student is Lewis\n",
      "second student is Maggie\n",
      "Lewis shoots rock.\n",
      "Maggie shoots scissors.\n",
      "Lewis win\n"
     ]
    }
   ],
   "source": [
    "def win(choice1,choice2):\n",
    "    if choice1 == choice2:\n",
    "        print('Deuce, world peace.')\n",
    "    elif choice1 != choice2:\n",
    "        if choice1 == 'rock':\n",
    "            print(student1,'win') if choice2 == 'scissors' else print(student2,'win') \n",
    "        elif choice1 == 'paper':\n",
    "            print(student2,'win') if choice2 == 'scissors' else print(student1,'win') \n",
    "        elif choice1 == 'scissors':\n",
    "            print(student1,'win') if choice2 == 'paper' else print(student2,'win') \n",
    "        else:\n",
    "            pass\n",
    "student1 = random.choice(students)\n",
    "print('first student is', student1)\n",
    "idx = students.index(student1)\n",
    "rest_students = students.copy()\n",
    "rest_students.pop(idx)\n",
    "student2 = random.choice(rest_students)\n",
    "print('second student is', student2)\n",
    "random_choice1 = random.choice(rock_paper_scissors )\n",
    "random_choice2 = random.choice(rock_paper_scissors)\n",
    "print(f'{student1} shoots {random_choice1}.\\n{student2} shoots {random_choice2}.')\n",
    "win(random_choice1,random_choice2)\n"
   ]
  },
  {
   "cell_type": "markdown",
   "id": "90806a6f",
   "metadata": {},
   "source": [
    "# Practice"
   ]
  },
  {
   "cell_type": "code",
   "execution_count": 83,
   "id": "99f94b46",
   "metadata": {},
   "outputs": [
    {
     "name": "stdout",
     "output_type": "stream",
     "text": [
      "Aaron roll 6.\n",
      "Maggie roll 5.\n",
      "Aaron win\n"
     ]
    }
   ],
   "source": [
    "def roll_dice(dice_points,student1,student2):\n",
    "    #roll1: numbers which student1 rolls\n",
    "    #roll2: numbers which student12 rolls \n",
    "    #dice_points: the highest points that a dice has\n",
    "    roll1 = \n",
    "    roll2 = \n",
    "    print(f'{student1} rolls {roll1}.\\n{student2} rolls {roll2}.')\n",
    "    if : #type your answer before :\n",
    "        print(student1, 'win')\n",
    "    elif : #type your answer before :\n",
    "        print(student2, 'win')\n",
    "    else:\n",
    "        print('Deuce')\n",
    "        \n",
    "roll_dice(6,'Aaron','Maggie')\n"
   ]
  },
  {
   "cell_type": "code",
   "execution_count": 88,
   "id": "4c3481ad",
   "metadata": {},
   "outputs": [
    {
     "name": "stdout",
     "output_type": "stream",
     "text": [
      "Aaron rolls [5, 5, 5].\n",
      "Maggie rolls [2, 6, 4].\n",
      "Aaron win\n"
     ]
    }
   ],
   "source": [
    "def roll_dice(dice_points,student1,student2,num_dices =1):\n",
    "    #num_dices =1 means the default number of dice is 1, but you can modify it\n",
    "    #roll1: numbers which student1 rolls\n",
    "    #roll2: numbers which student12 rolls \n",
    "    #dice_points: the highest points that a dice has\n",
    "    \n",
    "    roll1 = [random.randint(1,dice_points) for _  in range(num_dices)]\n",
    "    roll2 = [random.randint(1,dice_points) for _  in range(num_dices)]\n",
    "    print(f'{student1} rolls {roll1}.\\n{student2} rolls {roll2}.')\n",
    "    if : #type your answer before :\n",
    "        print(student1, 'win')\n",
    "    elif :#type your answer before :\n",
    "        print(student2, 'win')\n",
    "    else:\n",
    "        print('Deuce')\n",
    "        \n",
    "roll_dice( 6,'Aaron','Maggie',num_dices =3)"
   ]
  },
  {
   "cell_type": "markdown",
   "id": "b7c0939d",
   "metadata": {},
   "source": [
    "# Next: Group project Gamble Game design"
   ]
  },
  {
   "cell_type": "code",
   "execution_count": null,
   "id": "76373475",
   "metadata": {},
   "outputs": [],
   "source": []
  }
 ],
 "metadata": {
  "kernelspec": {
   "display_name": "Python 3 (ipykernel)",
   "language": "python",
   "name": "python3"
  },
  "language_info": {
   "codemirror_mode": {
    "name": "ipython",
    "version": 3
   },
   "file_extension": ".py",
   "mimetype": "text/x-python",
   "name": "python",
   "nbconvert_exporter": "python",
   "pygments_lexer": "ipython3",
   "version": "3.9.12"
  }
 },
 "nbformat": 4,
 "nbformat_minor": 5
}
