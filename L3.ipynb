{
 "cells": [
  {
   "cell_type": "markdown",
   "id": "51785890",
   "metadata": {},
   "source": [
    "# Recap"
   ]
  },
  {
   "cell_type": "code",
   "execution_count": 2,
   "id": "edb9a16e",
   "metadata": {},
   "outputs": [
    {
     "data": {
      "text/plain": [
       "'MengkunMengkunMengkunMengkunMengkunMengkunMengkunMengkunMengkunMengkunMengkunMengkunMengkunMengkunMengkunMengkunMengkunMengkunMengkunMengkunMengkunMengkunMengkunMengkunMengkunMengkunMengkunMengkunMengkunMengkunMengkunMengkunMengkunMengkunMengkunMengkunMengkunMengkunMengkunMengkunMengkunMengkunMengkunMengkunMengkunMengkunMengkunMengkunMengkunMengkunMengkunMengkunMengkunMengkunMengkunMengkunMengkunMengkunMengkunMengkunMengkunMengkunMengkunMengkunMengkunMengkunMengkunMengkunMengkunMengkunMengkunMengkunMengkunMengkunMengkunMengkunMengkunMengkunMengkunMengkunMengkunMengkunMengkunMengkunMengkunMengkunMengkunMengkunMengkunMengkunMengkunMengkunMengkunMengkunMengkunMengkunMengkunMengkunMengkunMengkun'"
      ]
     },
     "execution_count": 2,
     "metadata": {},
     "output_type": "execute_result"
    }
   ],
   "source": [
    "variable_float = 3.0\n",
    "variable_int = 3\n",
    "variable_string = 'Mengkun'\n",
    "variable_string*100"
   ]
  },
  {
   "cell_type": "code",
   "execution_count": 28,
   "id": "59edc592",
   "metadata": {},
   "outputs": [
    {
     "name": "stdout",
     "output_type": "stream",
     "text": [
      "your_name\n",
      "your_name Lewis\n"
     ]
    }
   ],
   "source": [
    "your_name = 'Lewis'\n",
    "\n",
    "print('your_name')\n",
    "print('your_name',your_name)\n"
   ]
  },
  {
   "cell_type": "code",
   "execution_count": 8,
   "id": "7ea5846a",
   "metadata": {},
   "outputs": [
    {
     "name": "stdout",
     "output_type": "stream",
     "text": [
      "I'm a student\n",
      "I'm a student\n",
      "\n",
      "I'm a student, \n",
      "but I'm a teacher too\n"
     ]
    }
   ],
   "source": [
    "print ('I\\'m a student')\n",
    "print (\"I'm a student\")\n",
    "print (\"\\nI'm a student, \\nbut I'm a teacher too\")"
   ]
  },
  {
   "cell_type": "markdown",
   "id": "023dc346",
   "metadata": {},
   "source": [
    "# 1. data containers:list"
   ]
  },
  {
   "cell_type": "code",
   "execution_count": 9,
   "id": "39a4c27e",
   "metadata": {},
   "outputs": [],
   "source": [
    "a = 1\n",
    "b = 2\n",
    "c = 3\n",
    "d = 4 "
   ]
  },
  {
   "cell_type": "code",
   "execution_count": 11,
   "id": "c4e2fab9",
   "metadata": {},
   "outputs": [
    {
     "name": "stdout",
     "output_type": "stream",
     "text": [
      "[1, 2, 3, 4, 5, 6, 7, 8, 9, 10]\n"
     ]
    }
   ],
   "source": [
    "data_container = [1,2,3,4,5,6,7,8,9,10] \n",
    "print(data_container)"
   ]
  },
  {
   "cell_type": "code",
   "execution_count": 12,
   "id": "942999bf",
   "metadata": {},
   "outputs": [
    {
     "name": "stdout",
     "output_type": "stream",
     "text": [
      "[1, 2, 3, 4, 5, 6, 7, 8, 9, 10, '花猫', True, 'Arrow1']\n"
     ]
    }
   ],
   "source": [
    "data_container = [1,2,3,4,5,6,7,8,9,10,'花猫',True,'Arrow1'] \n",
    "print(data_container)"
   ]
  },
  {
   "cell_type": "markdown",
   "id": "a0b44e31",
   "metadata": {},
   "source": [
    "How to access to specific element in a list? Slice and index"
   ]
  },
  {
   "cell_type": "code",
   "execution_count": 13,
   "id": "eb2638c2",
   "metadata": {},
   "outputs": [
    {
     "data": {
      "text/plain": [
       "1"
      ]
     },
     "execution_count": 13,
     "metadata": {},
     "output_type": "execute_result"
    }
   ],
   "source": [
    "data_container[0]"
   ]
  },
  {
   "cell_type": "code",
   "execution_count": 16,
   "id": "af0ef965",
   "metadata": {},
   "outputs": [
    {
     "data": {
      "text/plain": [
       "[1, 2]"
      ]
     },
     "execution_count": 16,
     "metadata": {},
     "output_type": "execute_result"
    }
   ],
   "source": [
    "data_container[:2]"
   ]
  },
  {
   "cell_type": "code",
   "execution_count": 17,
   "id": "d3ee96c2",
   "metadata": {},
   "outputs": [
    {
     "data": {
      "text/plain": [
       "'Arrow1'"
      ]
     },
     "execution_count": 17,
     "metadata": {},
     "output_type": "execute_result"
    }
   ],
   "source": [
    "data_container[-1]"
   ]
  },
  {
   "cell_type": "code",
   "execution_count": 18,
   "id": "495ee47f",
   "metadata": {},
   "outputs": [
    {
     "data": {
      "text/plain": [
       "[3, 4, 5]"
      ]
     },
     "execution_count": 18,
     "metadata": {},
     "output_type": "execute_result"
    }
   ],
   "source": [
    "data_container[2:5]"
   ]
  },
  {
   "cell_type": "markdown",
   "id": "e37ecc8a",
   "metadata": {},
   "source": [
    "There are other types of data container such as dictionary, set, tuple np.array and dataframe. We will mention them later."
   ]
  },
  {
   "cell_type": "code",
   "execution_count": 19,
   "id": "e78abc3e",
   "metadata": {},
   "outputs": [
    {
     "data": {
      "text/plain": [
       "True"
      ]
     },
     "execution_count": 19,
     "metadata": {},
     "output_type": "execute_result"
    }
   ],
   "source": [
    "'花猫' in data_container"
   ]
  },
  {
   "cell_type": "code",
   "execution_count": 20,
   "id": "4b77d80a",
   "metadata": {},
   "outputs": [
    {
     "data": {
      "text/plain": [
       "False"
      ]
     },
     "execution_count": 20,
     "metadata": {},
     "output_type": "execute_result"
    }
   ],
   "source": [
    "'土猪' in data_container"
   ]
  },
  {
   "cell_type": "code",
   "execution_count": 22,
   "id": "14531430",
   "metadata": {},
   "outputs": [
    {
     "data": {
      "text/plain": [
       "10"
      ]
     },
     "execution_count": 22,
     "metadata": {},
     "output_type": "execute_result"
    }
   ],
   "source": [
    "data_container.index('花猫')"
   ]
  },
  {
   "cell_type": "markdown",
   "id": "f07021db",
   "metadata": {},
   "source": [
    "# 2. import function or api"
   ]
  },
  {
   "cell_type": "code",
   "execution_count": 30,
   "id": "6c967f4d",
   "metadata": {},
   "outputs": [
    {
     "name": "stdout",
     "output_type": "stream",
     "text": [
      "Lewis is a smartest\n"
     ]
    }
   ],
   "source": [
    "import random\n",
    "names = ['花猫','crying baby','土猪','good student','小肥猪','smartest', 'talent','the conquer','the great']\n",
    "random_pick = random.choice(names)\n",
    "print(your_name,'is a', random_pick)"
   ]
  },
  {
   "cell_type": "code",
   "execution_count": 35,
   "id": "9f99373e",
   "metadata": {},
   "outputs": [
    {
     "name": "stdout",
     "output_type": "stream",
     "text": [
      "dog\n"
     ]
    }
   ],
   "source": [
    "animals = ['cat','dog','pig','tiger','leopard','dragon','crocodile','aligator']\n",
    "random_pick_animal = random.choice(animals)\n",
    "print(random_pick_animal)\n"
   ]
  },
  {
   "cell_type": "code",
   "execution_count": 40,
   "id": "2d6e1e42",
   "metadata": {},
   "outputs": [],
   "source": [
    "disordered_animal = ','.join(random.sample(random_pick_animal, len(random_pick_animal)))"
   ]
  },
  {
   "cell_type": "code",
   "execution_count": 41,
   "id": "5a176966",
   "metadata": {},
   "outputs": [
    {
     "name": "stdout",
     "output_type": "stream",
     "text": [
      "o,g,d\n"
     ]
    }
   ],
   "source": [
    "print(disordered_animal)"
   ]
  },
  {
   "cell_type": "code",
   "execution_count": 44,
   "id": "4be3b77c",
   "metadata": {},
   "outputs": [
    {
     "name": "stdout",
     "output_type": "stream",
     "text": [
      "o,r,C,i,h,y,c\n"
     ]
    }
   ],
   "source": [
    "vegetable_names = [\n",
    "    'Artichoke', 'Arugula', 'Asparagus', 'Aubergine', 'Amaranth',\n",
    "    'Beet', 'Broccoli', 'Brussels Sprouts', 'Bok Choy', 'Broad Beans',\n",
    "    'Cabbage', 'Carrot', 'Cauliflower', 'Celery', 'Chard',\n",
    "    'Chicory', 'Collard Greens', 'Corn', 'Cucumber', 'Courgette',\n",
    "    'Daikon', 'Dandelion Greens', 'Eggplant', 'Endive', 'Fennel',\n",
    "    'Garlic', 'Green Bean', 'Green Onion', 'Ginger', 'Horseradish',\n",
    "    'Jicama', 'Kale', 'Kohlrabi', 'Leek', 'Lettuce',\n",
    "    'Mushroom', 'Mustard Greens', 'Okra', 'Onion', 'Parsnip',\n",
    "    'Pea', 'Pepper', 'Potato', 'Pumpkin', 'Radish',\n",
    "    'Rhubarb', 'Rutabaga', 'Spinach', 'Squash', 'Tomato',\n",
    "    'Turnip', 'Watercress', 'Yam', 'Zucchini', 'Sweet Potato'\n",
    "]\n",
    "random_pick_vegetables = random.choice(vegetable_names)\n",
    "#print(random_pick_vegetables)\n",
    "disordered_vegetables = ','.join(random.sample(random_pick_vegetables, len(random_pick_vegetables)))\n",
    "print (disordered_vegetables )"
   ]
  },
  {
   "cell_type": "code",
   "execution_count": 48,
   "id": "9c4bd462",
   "metadata": {},
   "outputs": [
    {
     "name": "stdout",
     "output_type": "stream",
     "text": [
      "o,u,k,i,y,s, ,e,m,e,c,m\n"
     ]
    }
   ],
   "source": [
    "disney_names = [\n",
    "    'mickey mouse', 'minnie mouse', 'donald duck', 'daisy duck', 'goofy',\n",
    "    'pluto', 'cinderella', 'ariel', 'belle', 'jasmine',\n",
    "    'aladdin', 'simba', 'mufasa', 'scar', 'elsa',\n",
    "    'anna', 'olaf', 'sven', 'kristoff', 'moana',\n",
    "    'maui', 'merida', 'pocahontas', 'rapunzel', 'flynn rider',\n",
    "    'tiana', 'naveen', 'louis', 'ray', 'dr. faciler',\n",
    "    'woody', 'buzz lightyear', 'jessie', 'rex', 'mr. potato head',\n",
    "    'sulley', 'mike wazowski', 'boo', 'randall boggs', 'flik',\n",
    "    'heimlich', 'dot', 'lightning mcqueen', 'mater', 'sally carrera',\n",
    "    'dory', 'nemo', 'marlin', 'hank', 'destiny',\n",
    "    'bailey', 'jack sparrow', 'elizabeth swann', 'will turner', 'hector barbossa',\n",
    "    'davy jones', 'jack skellington', 'sally', 'oogie boogie', 'doctor strange',\n",
    "    'thor', 'loki', 'iron man', 'captain america', 'black widow',\n",
    "    'hulk', 'hawkeye', 'vision', 'wanda maximoff', 'falcon',\n",
    "    'winter soldier', 'ant-man', 'black panther', 'groot', 'rocket raccoon',\n",
    "    'star-lord', 'gamora', 'drax', 'mantis', 'nebula',\n",
    "    'thanos', 'spider-man', 'doctor octopus', 'green goblin', 'mysterio',\n",
    "    'vulture', 'electro', 'sandman', 'venom', 'carnage'\n",
    "]\n",
    "\n",
    "import random\n",
    "\n",
    "# Randomly pick one Disney-related name from the list\n",
    "random_pick_disney = random.choice(disney_names)\n",
    "\n",
    "# Disorder the picked Disney-related name\n",
    "disordered_disney = ','.join(random.sample(random_pick_disney, len(random_pick_disney)))\n",
    "\n",
    "print(disordered_disney)"
   ]
  },
  {
   "cell_type": "markdown",
   "id": "69713a36",
   "metadata": {},
   "source": [
    "# 3. Homeworks"
   ]
  },
  {
   "cell_type": "markdown",
   "id": "6bb6552b",
   "metadata": {},
   "source": [
    "Make a list of 50 names of the following:"
   ]
  },
  {
   "cell_type": "markdown",
   "id": "21ee4c81",
   "metadata": {},
   "source": [
    "Aaron picks one of which 1. animals 2.fruits\n",
    "<br>\n",
    "Wilson picks one of which 1. Anything from Harry Potter like spells, names and food 2. countries\n",
    "<br>\n",
    "Lewis picks one of which 1. U.S. states 2. car like camry, bently...\n",
    "<br>\n",
    "Maggies picks one of which 1. Language i.e. Chinese, English, Hindi,Japanese, korean. 2. U.S. cities\n",
    "<br>\n",
    "You should make your list like the following:"
   ]
  },
  {
   "cell_type": "code",
   "execution_count": 49,
   "id": "e8cb44e7",
   "metadata": {},
   "outputs": [],
   "source": [
    "# do not capitalize anything\n",
    "US_cities = ['new york','atlanta', 'los angles']"
   ]
  },
  {
   "cell_type": "code",
   "execution_count": null,
   "id": "ed2cbbe8",
   "metadata": {},
   "outputs": [],
   "source": []
  }
 ],
 "metadata": {
  "kernelspec": {
   "display_name": "Python 3 (ipykernel)",
   "language": "python",
   "name": "python3"
  },
  "language_info": {
   "codemirror_mode": {
    "name": "ipython",
    "version": 3
   },
   "file_extension": ".py",
   "mimetype": "text/x-python",
   "name": "python",
   "nbconvert_exporter": "python",
   "pygments_lexer": "ipython3",
   "version": "3.9.12"
  }
 },
 "nbformat": 4,
 "nbformat_minor": 5
}
