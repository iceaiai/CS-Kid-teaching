{
  "nbformat": 4,
  "nbformat_minor": 0,
  "metadata": {
    "colab": {
      "provenance": [],
      "authorship_tag": "ABX9TyPccvXo+kVOro7sU+M0AF8v",
      "include_colab_link": true
    },
    "kernelspec": {
      "name": "python3",
      "display_name": "Python 3"
    },
    "language_info": {
      "name": "python"
    }
  },
  "cells": [
    {
      "cell_type": "markdown",
      "metadata": {
        "id": "view-in-github",
        "colab_type": "text"
      },
      "source": [
        "<a href=\"https://colab.research.google.com/github/iceaiai/CS-Kid-teaching/blob/main/Q1_Nov_2nd_2024.ipynb\" target=\"_parent\"><img src=\"https://colab.research.google.com/assets/colab-badge.svg\" alt=\"Open In Colab\"/></a>"
      ]
    },
    {
      "cell_type": "markdown",
      "source": [
        "# Quiz rule:\n",
        "# Work on your own;\n",
        "# Everyone has one time chance to ask help from teacher\n"
      ],
      "metadata": {
        "id": "g_dFOjFW7HYl"
      }
    },
    {
      "cell_type": "markdown",
      "source": [
        "## Example: Define a function called pound_to_kg(x) to convert pound into kg:\n",
        "### input: x in pound\n",
        "### output: y which is the kg\n",
        "### kg = pound * 0.453592\n",
        "###so y = x * 0.453592\n"
      ],
      "metadata": {
        "id": "aMEf9JKX5hFE"
      }
    },
    {
      "cell_type": "code",
      "execution_count": 1,
      "metadata": {
        "colab": {
          "base_uri": "https://localhost:8080/"
        },
        "id": "JEhd3cWg5aqU",
        "outputId": "59677740-f8a1-4e04-c785-b510d13b53a5"
      },
      "outputs": [
        {
          "output_type": "stream",
          "name": "stdout",
          "text": [
            "4.53592\n"
          ]
        }
      ],
      "source": [
        "def pound_to_kg(x):\n",
        "  y = x * 0.453592\n",
        "  return y\n",
        "print(pound_to_kg(10))"
      ]
    },
    {
      "cell_type": "markdown",
      "source": [
        "## Q1: Define a function called add():\n",
        "### input: x1, x2 which is a number\n",
        "### output y: which is x1 + x2\n"
      ],
      "metadata": {
        "id": "96n_izcQ6eH-"
      }
    },
    {
      "cell_type": "code",
      "source": [
        "def add(x1, x2):\n",
        "  y = # fill your answer here\n",
        "  return y\n",
        "print(add(10, 20))"
      ],
      "metadata": {
        "id": "dXXBB-iI67ux"
      },
      "execution_count": null,
      "outputs": []
    },
    {
      "cell_type": "markdown",
      "source": [
        "## Q2: Define a function called minus():\n",
        "### input: x1, x2 which is a number\n",
        "### output y: which is x1 - x2"
      ],
      "metadata": {
        "id": "6dyJoTOK7lgE"
      }
    },
    {
      "cell_type": "code",
      "source": [
        "def minus(x1, x2):\n",
        "   # fill your answer here\n",
        "  return # fill your answer here\n",
        "print(minus(20, 10))"
      ],
      "metadata": {
        "id": "m3j28AB67jPb"
      },
      "execution_count": null,
      "outputs": []
    },
    {
      "cell_type": "markdown",
      "source": [
        "## Q3: Define a function called multi():\n",
        "### input: x1, x2 which is a number\n",
        "### output y: which is x1 * x2"
      ],
      "metadata": {
        "id": "4wpep8Gt7vsA"
      }
    },
    {
      "cell_type": "code",
      "source": [
        "def multi(x1, x2):\n",
        "   # fill your answer here\n",
        "  return # fill your answer here\n",
        "print(multi(20, 10))"
      ],
      "metadata": {
        "id": "icIZAIpV7348"
      },
      "execution_count": null,
      "outputs": []
    },
    {
      "cell_type": "markdown",
      "source": [
        "## Q4: Define a function called divide():\n",
        "### input: x1, x2 which is a number\n",
        "### output y: which is x1 / x2"
      ],
      "metadata": {
        "id": "PGVuJmcp8C0s"
      }
    },
    {
      "cell_type": "code",
      "source": [
        "def divide(x1, x2):\n",
        "   # fill your answer here\n",
        "  return # fill your answer here\n",
        "print(divide(20, 10))"
      ],
      "metadata": {
        "id": "GoFUKSZW8KxQ"
      },
      "execution_count": null,
      "outputs": []
    },
    {
      "cell_type": "markdown",
      "source": [
        "##Q5: using for loop to print all number in a list"
      ],
      "metadata": {
        "id": "M8y3HyAa8dEs"
      }
    },
    {
      "cell_type": "code",
      "source": [
        "list1 = [10, 20,'hello', 30, 'ducky',40, 50]\n",
        "for i in list1:\n",
        "  if type(i) == # fill your answer here\n",
        "    print(i)"
      ],
      "metadata": {
        "id": "T4wJNKcZ9H53"
      },
      "execution_count": null,
      "outputs": []
    },
    {
      "cell_type": "markdown",
      "source": [
        "## Q6: using for loop to print the locations of all number in a list\n",
        "\n",
        "\n"
      ],
      "metadata": {
        "id": "379obB8r9aHv"
      }
    },
    {
      "cell_type": "code",
      "source": [
        "list1 = [10, 20,'hello', 30, 'ducky',40, 50]\n",
        "for i in range(len(list1)):\n",
        "  # note: i is the location of the element of list1\n",
        "  # you need index it\n",
        "  element = # index ith element in list1# fill your answer here\n",
        "  if type(element) # fill your answer here\n",
        "    print(f'Number {element} is at location {i+1} of list1')"
      ],
      "metadata": {
        "colab": {
          "base_uri": "https://localhost:8080/"
        },
        "id": "Xn2AUVke9gKn",
        "outputId": "37be5c3d-cf38-4c65-8f45-579a3f4b4193"
      },
      "execution_count": 3,
      "outputs": [
        {
          "output_type": "stream",
          "name": "stdout",
          "text": [
            "Number 10 is at location 1\n",
            "Number 20 is at location 2\n",
            "Number 30 is at location 4\n",
            "Number 40 is at location 6\n",
            "Number 50 is at location 7\n"
          ]
        }
      ]
    },
    {
      "cell_type": "markdown",
      "source": [
        "##  Q7: Calculate the factorial of a number using for loop\n",
        "### for example:\n",
        "### 5! = 1 x 2 x 3 x 4 x 5\n",
        "### loop from start to end:\n",
        "### start = 1, end = 5 + 1\n",
        "### i = 1: result = result * 1 so result = 1\n",
        "### i = 2: result = result * 2 so result = 2\n",
        "### i = 3: result = result * 3 so result = 6\n",
        "### ..."
      ],
      "metadata": {
        "id": "Ae3RGdEZ_kNh"
      }
    },
    {
      "cell_type": "code",
      "source": [
        "result = 1\n",
        "number = 8\n",
        "for i in # fill your answer here\n",
        "  # fill your answer here\n",
        "print(result)"
      ],
      "metadata": {
        "id": "7NfKlsDd-_fC"
      },
      "execution_count": null,
      "outputs": []
    },
    {
      "cell_type": "markdown",
      "source": [
        "## Q8: Using if statement to judge a number is odd or even\n",
        "##Hint: number divided by two with no residue is even, else odd"
      ],
      "metadata": {
        "id": "8pMsw9igADWx"
      }
    },
    {
      "cell_type": "code",
      "source": [
        "Number = 100098 - 38878 +890809- 13131\n",
        "if Nummber # fill your answer here\n",
        "  print('Number is even')\n",
        "elif Nummber   # fill your answer here\n",
        "  print('Number is odd')"
      ],
      "metadata": {
        "id": "7cOsFQFQACkR"
      },
      "execution_count": null,
      "outputs": []
    },
    {
      "cell_type": "markdown",
      "source": [
        "## Q9: Checking if a Number is Positive, Negative, or Zero"
      ],
      "metadata": {
        "id": "fAzExE3yA9K-"
      }
    },
    {
      "cell_type": "code",
      "source": [
        "number = 100098*56 - 38878 + 8190809*5- 13131313*8\n",
        "\n",
        "if number  # fill your answer here\n",
        "    print(f\"{number} is positive\")\n",
        "elif number # fill your answer here\n",
        "    print(f\"{number} is negative\")\n",
        "elif number  # fill your answer here\n",
        "    print(f\"{number} is zero\")"
      ],
      "metadata": {
        "id": "2GY2QANMBE80"
      },
      "execution_count": null,
      "outputs": []
    },
    {
      "cell_type": "markdown",
      "source": [
        "## Q10: Checking if a your first name is in the word_list using if statement"
      ],
      "metadata": {
        "id": "sl2Lbe3nBXH-"
      }
    },
    {
      "cell_type": "code",
      "source": [
        "import random\n",
        "\n",
        "# Expanded word list with names, states, countries, and animals\n",
        "word_list = [\n",
        "    \"apple\", \"banana\", \"grape\", \"orange\", \"strawberry\", \"pear\", \"mango\", \"kiwi\", \"pineapple\", \"melon\", \"Aaron\", \"Wilson\", \"Maggie\", \"Lewis\",\n",
        "    \"dog\", \"cat\", \"lion\", \"tiger\", \"elephant\", \"giraffe\", \"zebra\", \"kangaroo\", \"koala\", \"panda\", \"eagle\", \"falcon\", \"shark\", \"whale\", \"dolphin\",\n",
        "    \"parrot\", \"penguin\", \"cheetah\", \"jaguar\", \"buffalo\", \"bison\", \"antelope\", \"camel\", \"deer\", \"fox\", \"wolf\", \"raccoon\", \"otter\", \"beaver\",\n",
        "    \"bear\", \"rabbit\", \"squirrel\", \"hippopotamus\", \"rhinoceros\", \"owl\", \"goose\", \"duck\", \"flamingo\", \"swallow\", \"sparrow\", \"robin\", \"peacock\",\n",
        "    \"moose\", \"hedgehog\", \"sloth\", \"leopard\", \"lynx\", \"mongoose\", \"wolverine\", \"badger\", \"iguana\", \"cobra\", \"python\", \"alligator\", \"crocodile\",\n",
        "    \"Alabama\", \"Alaska\", \"Arizona\", \"Arkansas\", \"California\", \"Colorado\", \"Connecticut\", \"Delaware\", \"Florida\", \"Georgia\", \"Hawaii\", \"Idaho\",\n",
        "    \"Illinois\", \"Indiana\", \"Iowa\", \"Kansas\", \"Kentucky\", \"Louisiana\", \"Maine\", \"Maryland\", \"Massachusetts\", \"Michigan\", \"Minnesota\",\n",
        "    \"Mississippi\", \"Missouri\", \"Montana\", \"Nebraska\", \"Nevada\", \"New Hampshire\", \"New Jersey\", \"New Mexico\", \"New York\", \"North Carolina\",\n",
        "    \"North Dakota\", \"Ohio\", \"Oklahoma\", \"Oregon\", \"Pennsylvania\", \"Rhode Island\", \"South Carolina\", \"South Dakota\", \"Tennessee\", \"Texas\",\n",
        "    \"Utah\", \"Vermont\", \"Virginia\", \"Washington\", \"West Virginia\", \"Wisconsin\", \"Wyoming\",\n",
        "    \"Canada\", \"Mexico\", \"Brazil\", \"Argentina\", \"Chile\", \"Peru\", \"Colombia\", \"Venezuela\", \"Ecuador\", \"Bolivia\", \"Paraguay\", \"Uruguay\",\n",
        "    \"France\", \"Germany\", \"Italy\", \"Spain\", \"Portugal\", \"Greece\", \"Netherlands\", \"Belgium\", \"Sweden\", \"Norway\", \"Denmark\", \"Finland\", \"Iceland\",\n",
        "    \"Japan\", \"China\", \"South Korea\", \"India\", \"Indonesia\", \"Vietnam\", \"Thailand\", \"Malaysia\", \"Singapore\", \"Philippines\",\n",
        "    \"Russia\", \"Ukraine\", \"Poland\", \"Czech Republic\", \"Austria\", \"Switzerland\", \"Hungary\", \"Romania\", \"Bulgaria\", \"Serbia\", \"Croatia\",\n",
        "    \"Turkey\", \"Iran\", \"Iraq\", \"Syria\", \"Israel\", \"Egypt\", \"Morocco\", \"Nigeria\", \"Kenya\", \"South Africa\", \"Ethiopia\", \"Uganda\",\n",
        "    \"Australia\", \"New Zealand\", \"Papua New Guinea\", \"Fiji\", \"Samoa\"\n",
        "]\n",
        "\n",
        "# Generate a 1000-word long sentence from the expanded word list\n",
        "words = \" \".join(random.choices(word_list, k=1000))\n",
        "\n",
        "# Check if your name is in the generated sentence\n",
        "your_name = \"狗狗\"  # Replace with your name\n",
        "if your_name in # fill your answer here\n",
        "    print(f'The sentence contains the name {your_name}')\n",
        "else:\n",
        "    print(f\"The sentence does not contain the name {your_name}\")\n",
        "\n",
        "# Print the generated sentence (optional, since it's very long)\n",
        "# print(words)  # Uncomment this line to view the generated sentence if needed\n"
      ],
      "metadata": {
        "colab": {
          "base_uri": "https://localhost:8080/"
        },
        "id": "Et9gU0BEBzyE",
        "outputId": "371fcb26-80fa-4eba-e07a-9053424366e2"
      },
      "execution_count": 8,
      "outputs": [
        {
          "output_type": "stream",
          "name": "stdout",
          "text": [
            "The sentence contains the name Aaron\n"
          ]
        }
      ]
    }
  ]
}