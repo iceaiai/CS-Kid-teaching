{
 "cells": [
  {
   "cell_type": "markdown",
   "id": "e8b255ae-9e96-49b3-bf0f-33af17ef538b",
   "metadata": {},
   "source": [
    "# Lucky numbers"
   ]
  },
  {
   "cell_type": "code",
   "execution_count": 1,
   "id": "a262a7c2-4dee-47da-b4fa-717125bcea57",
   "metadata": {},
   "outputs": [
    {
     "ename": "SyntaxError",
     "evalue": "invalid syntax (3305695947.py, line 1)",
     "output_type": "error",
     "traceback": [
      "\u001b[1;36m  Cell \u001b[1;32mIn[1], line 1\u001b[1;36m\u001b[0m\n\u001b[1;33m    birthday =      #type your birthday in the following format yyyymmdd (8 digits). i.e. 20240921\u001b[0m\n\u001b[1;37m                    ^\u001b[0m\n\u001b[1;31mSyntaxError\u001b[0m\u001b[1;31m:\u001b[0m invalid syntax\n"
     ]
    }
   ],
   "source": [
    "name = \n",
    "birthday =      #type your birthday in the following format yyyymmdd (8 digits). i.e. 20240921\n",
    "# for example birthday = 20240921\n",
    "extract_d1 =     # should return 1 from 20240921\n",
    "extract_d2 =     # should return 2 from 20240921\n",
    "extract_m1 = \n",
    "extract_m2 = \n",
    "extract_y1 = \n",
    "extract_y2 = \n",
    "extract_y3 = \n",
    "extract_y4 = \n",
    "total = extract_d1+extract_d2+extract_m1+extract_m2+extract_y1+extract_y2+extract_y3+extract_y4\n",
    "while total >= 10:\n",
    "    modulo = total%10\n",
    "    floor = total//10\n",
    "    total = floor + modulo\n",
    "print (f\"(name)'s lucky number is {total}\")"
   ]
  },
  {
   "cell_type": "markdown",
   "id": "f6c5bce3-025d-44d1-9d4c-2419d864520f",
   "metadata": {},
   "source": [
    "# How many changes I have to return to the customer?"
   ]
  },
  {
   "cell_type": "code",
   "execution_count": null,
   "id": "a5f89f7d-eddc-452c-b4e7-65a2092a6197",
   "metadata": {},
   "outputs": [],
   "source": [
    "# Jimmy took 10 dollars to buy 3 items, each item costs fifty-two cents He wanted us to return maximum quarter. Then the reminder money will be returned in the penny.\n",
    "Money = 10 # ten dollars\n",
    "cost_per_item = 0.52 #52cents\n",
    "total_cost_for_items = \n",
    "num_quarters = \n",
    "num_pennies = \n",
    "print(f'We need to return Jimmy {num_quarters} quarters, and {num_cents}cents')"
   ]
  },
  {
   "cell_type": "markdown",
   "id": "82c8a3ca-6cc9-4750-9490-cf1c36cde207",
   "metadata": {},
   "source": [
    "# Error"
   ]
  },
  {
   "cell_type": "code",
   "execution_count": null,
   "id": "ac82d69c-927f-49fc-97dc-b1bf009da092",
   "metadata": {},
   "outputs": [],
   "source": [
    "# Figure out the errors, and revise the code to remove the errors\n",
    "print('I'am a student!)"
   ]
  },
  {
   "cell_type": "code",
   "execution_count": null,
   "id": "fe6adadf-296e-40b0-a8ce-e229514bec94",
   "metadata": {},
   "outputs": [],
   "source": [
    "n = '123'\n",
    "m = 16\n",
    "total = n + m\n",
    "print(total)"
   ]
  },
  {
   "cell_type": "code",
   "execution_count": null,
   "id": "54408b6c-f9e8-4aea-a063-707f343db113",
   "metadata": {},
   "outputs": [],
   "source": [
    "x = 8\n",
    "y = 12234\n",
    "w = \n",
    "y = w + x"
   ]
  },
  {
   "cell_type": "code",
   "execution_count": 4,
   "id": "1c122b58-6024-47ae-9caf-30cde64c34de",
   "metadata": {},
   "outputs": [
    {
     "data": {
      "text/plain": [
       "6"
      ]
     },
     "execution_count": 4,
     "metadata": {},
     "output_type": "execute_result"
    }
   ],
   "source": [
    "days = 10478\n",
    "weeks = days//7\n",
    "days_left = days%7\n",
    "days_left"
   ]
  },
  {
   "cell_type": "code",
   "execution_count": 7,
   "id": "cc64d534-062e-47a7-a723-3a02ed7bc987",
   "metadata": {},
   "outputs": [
    {
     "data": {
      "text/plain": [
       "333333.3333333333"
      ]
     },
     "execution_count": 7,
     "metadata": {},
     "output_type": "execute_result"
    }
   ],
   "source": [
    "animals = 1000\n",
    "three_animals =1000 #dolloars\n",
    "one_animal = three_animals/3\n",
    "one_animal *1000"
   ]
  },
  {
   "cell_type": "code",
   "execution_count": 9,
   "id": "3d0d8ad2-90cd-49dd-8018-9b0b012e3171",
   "metadata": {},
   "outputs": [
    {
     "name": "stdout",
     "output_type": "stream",
     "text": [
      "1641 generals and 12 colonels\n"
     ]
    }
   ],
   "source": [
    "total_soliders =123127864\n",
    "num_soilders_for_one_general= 75000\n",
    "num_generals = total_soliders//num_soilders_for_one_general\n",
    "num_soilders_for_one_colonel = 4200\n",
    "num_colonels = total_soliders%num_soilders_for_one_general//num_soilders_for_one_colonel\n",
    "print(f'{num_generals} generals and {num_colonels} colonels')"
   ]
  },
  {
   "cell_type": "code",
   "execution_count": 26,
   "id": "b2557ad1-5edd-4f8d-8d93-f77758bf0617",
   "metadata": {},
   "outputs": [
    {
     "name": "stdin",
     "output_type": "stream",
     "text": [
      "please type an integer: 45667\n"
     ]
    },
    {
     "name": "stdout",
     "output_type": "stream",
     "text": [
      "7.0 6.0\n"
     ]
    }
   ],
   "source": [
    "num = input('please type an integer:')\n",
    "num = float(num)\n",
    "one_digit = num%10\n",
    "two_digit = (num)%100//10\n",
    "print(one_digit,two_digit)"
   ]
  },
  {
   "cell_type": "code",
   "execution_count": 25,
   "id": "6b59e365-ace6-4fac-adda-0beab5b872f7",
   "metadata": {},
   "outputs": [
    {
     "data": {
      "text/plain": [
       "5"
      ]
     },
     "execution_count": 25,
     "metadata": {},
     "output_type": "execute_result"
    }
   ],
   "source": [
    "(13456)%100//10"
   ]
  },
  {
   "cell_type": "code",
   "execution_count": 28,
   "id": "d116b650-bbc9-4b5b-842d-cdb8de1d3f0c",
   "metadata": {},
   "outputs": [
    {
     "data": {
      "text/plain": [
       "1231.424"
      ]
     },
     "execution_count": 28,
     "metadata": {},
     "output_type": "execute_result"
    }
   ],
   "source": [
    "total_students_ngms = 2168\n",
    "students_in_one_class = 30\n",
    "students_in_one_band = 15\n",
    "asian = 0.4*total_students_ngms\n",
    "girls= 0.568*total_students_ngms\n",
    "lewis = "
   ]
  },
  {
   "cell_type": "code",
   "execution_count": 40,
   "id": "be77a1a1-6b70-4675-9b31-d9a816b31a19",
   "metadata": {},
   "outputs": [
    {
     "name": "stdout",
     "output_type": "stream",
     "text": [
      "9\n"
     ]
    }
   ],
   "source": [
    "for x in range(1,20):\n",
    "    if 512**(1/x)==2:\n",
    "        print( x)"
   ]
  },
  {
   "cell_type": "code",
   "execution_count": 55,
   "id": "e9d79c6e-46b0-4f53-a311-cda20b44868b",
   "metadata": {},
   "outputs": [
    {
     "name": "stdout",
     "output_type": "stream",
     "text": [
      "('I am', 'Wei-sen', 'I am', 'Wei-sen', 'I am', 'Wei-sen', 'I am', 'Wei-sen', 'I am', 'Wei-sen', 'I am', 'Wei-sen', 'I am', 'Wei-sen', 'I am', 'Wei-sen', 'I am', 'Wei-sen', 'I am', 'Wei-sen', 'I am', 'Wei-sen')\n"
     ]
    }
   ],
   "source": [
    "string_1 = 'I am'\n",
    "string_2 = 'Wei-sen'\n",
    "num_1 = 11\n",
    "print((string_1,string_2)*11)"
   ]
  },
  {
   "cell_type": "code",
   "execution_count": 61,
   "id": "c83260b0-a2ac-4f63-8011-3349b1570e2a",
   "metadata": {},
   "outputs": [
    {
     "data": {
      "text/plain": [
       "'123feed you'"
      ]
     },
     "execution_count": 61,
     "metadata": {},
     "output_type": "execute_result"
    }
   ],
   "source": [
    "a = 123\n",
    "b = 'feed you'\n",
    "str(a)+b"
   ]
  },
  {
   "cell_type": "code",
   "execution_count": null,
   "id": "e4166406-d255-44e5-bdb8-52a7f6887af5",
   "metadata": {},
   "outputs": [],
   "source": []
  }
 ],
 "metadata": {
  "kernelspec": {
   "display_name": "Python [conda env:base] *",
   "language": "python",
   "name": "conda-base-py"
  },
  "language_info": {
   "codemirror_mode": {
    "name": "ipython",
    "version": 3
   },
   "file_extension": ".py",
   "mimetype": "text/x-python",
   "name": "python",
   "nbconvert_exporter": "python",
   "pygments_lexer": "ipython3",
   "version": "3.11.9"
  }
 },
 "nbformat": 4,
 "nbformat_minor": 5
}
