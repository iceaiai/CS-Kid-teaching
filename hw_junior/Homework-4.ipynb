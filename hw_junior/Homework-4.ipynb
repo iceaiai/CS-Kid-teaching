{
 "cells": [
  {
   "cell_type": "markdown",
   "id": "cf7e3e89-09bf-4b95-89ac-a22269c5bb10",
   "metadata": {},
   "source": [
    "And, or and not"
   ]
  },
  {
   "cell_type": "markdown",
   "id": "8047119a-6be8-4511-9ae2-d53c17f42e6d",
   "metadata": {},
   "source": [
    "Tell whether the following is true or false"
   ]
  },
  {
   "cell_type": "code",
   "execution_count": 7,
   "id": "61832d0c-6607-4c96-8dec-a92b79f2fab1",
   "metadata": {},
   "outputs": [],
   "source": [
    "a = 5\n",
    "b = 0\n",
    "result = a<=0 and b<=0"
   ]
  },
  {
   "cell_type": "code",
   "execution_count": 4,
   "id": "700c1ba1-c026-4556-b502-0174960de59a",
   "metadata": {},
   "outputs": [
    {
     "name": "stdout",
     "output_type": "stream",
     "text": [
      "5\n"
     ]
    }
   ],
   "source": [
    "a = 5\n",
    "b = 0\n",
    "result = a<=0 or b<=0"
   ]
  },
  {
   "cell_type": "code",
   "execution_count": 2,
   "id": "893fdfb3-1fac-44ac-be95-0f040e0d6a63",
   "metadata": {},
   "outputs": [
    {
     "name": "stdout",
     "output_type": "stream",
     "text": [
      "10\n"
     ]
    }
   ],
   "source": [
    "a = 10\n",
    "b = 20\n",
    "result = a<=0 and b<=0"
   ]
  },
  {
   "cell_type": "code",
   "execution_count": 10,
   "id": "e886f6d0-26df-4023-b396-2b1eb9d541ff",
   "metadata": {},
   "outputs": [],
   "source": [
    "a = 0\n",
    "b = 15\n",
    "result = not a<0 and b>0"
   ]
  },
  {
   "cell_type": "code",
   "execution_count": 16,
   "id": "4b25fa6d-b79c-4072-b20c-18469944ed49",
   "metadata": {},
   "outputs": [],
   "source": [
    "a = 10\n",
    "b = 20\n",
    "c = 17\n",
    "d = 25\n",
    "result = a*b - c*d <=0"
   ]
  },
  {
   "cell_type": "markdown",
   "id": "b850acc0-3616-48b8-8896-43c0448dcb74",
   "metadata": {},
   "source": [
    "If statement"
   ]
  },
  {
   "cell_type": "code",
   "execution_count": null,
   "id": "d51aa13d-ea0e-4697-87c6-7096b49aae63",
   "metadata": {},
   "outputs": [],
   "source": [
    "#Example\n",
    "letters = input('Please enter a letter')\n",
    "vowels = 'aeiouAEIOU'  # Define vowels (both lowercase and uppercase)\n",
    "vowel_count = 0 # vowel counter\n",
    "\n",
    "# Loop through each letter in the input and count vowels\n",
    "for i in letters:\n",
    "    if i in vowels: \n",
    "        vowel_count += 1\n",
    "\n",
    "print(f'There are {vowel_count} vowels in the input.')"
   ]
  },
  {
   "cell_type": "code",
   "execution_count": 19,
   "id": "3a661ac3-00cf-4321-af6b-b3555d9baf5c",
   "metadata": {},
   "outputs": [
    {
     "ename": "SyntaxError",
     "evalue": "unterminated string literal (detected at line 2) (3071482225.py, line 2)",
     "output_type": "error",
     "traceback": [
      "\u001b[1;36m  Cell \u001b[1;32mIn[19], line 2\u001b[1;36m\u001b[0m\n\u001b[1;33m    statements = (\"Today, we’re releasing Llama 3.2, which includes small and medium-sized vision LLMs (11B and 90B), and lightweight,\u001b[0m\n\u001b[1;37m                  ^\u001b[0m\n\u001b[1;31mSyntaxError\u001b[0m\u001b[1;31m:\u001b[0m unterminated string literal (detected at line 2)\n"
     ]
    }
   ],
   "source": [
    "#Now follow the example, count how many w, i, l, s, o, m in the variable 'statements'\n",
    "statements = \"Today, we’re releasing Llama 3.2, which includes small and medium-sized vision LLMs (11B and 90B), and lightweight, text-only models (1B and 3B) that fit onto edge and mobile devices, including pre-trained and instruction-tuned versions.\"\n",
    "word = 'wilsomWILSOM'\n",
    "count = 0\n",
    "                                                                                                                                                                                                                                                 \n",
    "                                                                                                                                                                                                                                                                                                                                                                                                                                                                                              #"
   ]
  },
  {
   "cell_type": "code",
   "execution_count": null,
   "id": "f10b6542-8bbb-412b-9580-a7b185c2bcdf",
   "metadata": {},
   "outputs": [],
   "source": []
  }
 ],
 "metadata": {
  "kernelspec": {
   "display_name": "Python [conda env:base] *",
   "language": "python",
   "name": "conda-base-py"
  },
  "language_info": {
   "codemirror_mode": {
    "name": "ipython",
    "version": 3
   },
   "file_extension": ".py",
   "mimetype": "text/x-python",
   "name": "python",
   "nbconvert_exporter": "python",
   "pygments_lexer": "ipython3",
   "version": "3.11.9"
  }
 },
 "nbformat": 4,
 "nbformat_minor": 5
}
