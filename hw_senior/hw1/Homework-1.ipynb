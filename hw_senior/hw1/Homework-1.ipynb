{
 "cells": [
  {
   "cell_type": "code",
   "execution_count": 1,
   "id": "3e48d119",
   "metadata": {},
   "outputs": [],
   "source": [
    "import autograder as ag\n",
    "grader = ag.auto_grader_01()"
   ]
  },
  {
   "cell_type": "markdown",
   "id": "6dec4e6e",
   "metadata": {},
   "source": [
    "# 1. Type your name in the '  '"
   ]
  },
  {
   "cell_type": "code",
   "execution_count": 2,
   "id": "0b109093",
   "metadata": {},
   "outputs": [
    {
     "name": "stdout",
     "output_type": "stream",
     "text": [
      "Please type your name\n"
     ]
    }
   ],
   "source": [
    "your_name = ''\n",
    "grader.check(your_name)"
   ]
  },
  {
   "cell_type": "markdown",
   "id": "94534fae",
   "metadata": {},
   "source": [
    "# 2. Operator"
   ]
  },
  {
   "cell_type": "markdown",
   "id": "a6d80c89",
   "metadata": {},
   "source": [
    "Question_1:   6 * 6 /(6 /6) = ? (10pts)"
   ]
  },
  {
   "cell_type": "code",
   "execution_count": 3,
   "id": "9fa966c1",
   "metadata": {},
   "outputs": [
    {
     "ename": "SyntaxError",
     "evalue": "invalid syntax (4088056933.py, line 1)",
     "output_type": "error",
     "traceback": [
      "\u001b[1;36m  Cell \u001b[1;32mIn[3], line 1\u001b[1;36m\u001b[0m\n\u001b[1;33m    Answer_1 =\u001b[0m\n\u001b[1;37m               ^\u001b[0m\n\u001b[1;31mSyntaxError\u001b[0m\u001b[1;31m:\u001b[0m invalid syntax\n"
     ]
    }
   ],
   "source": [
    "Answer_1 = \n",
    "grader.Q1(Answer_1)"
   ]
  },
  {
   "cell_type": "markdown",
   "id": "241afc7f",
   "metadata": {},
   "source": [
    "Question_2:3 * 2 ** 2  = ? (10pts)"
   ]
  },
  {
   "cell_type": "code",
   "execution_count": 17,
   "id": "b2f8049b",
   "metadata": {},
   "outputs": [
    {
     "ename": "SyntaxError",
     "evalue": "invalid syntax (1923450727.py, line 1)",
     "output_type": "error",
     "traceback": [
      "\u001b[1;36m  Input \u001b[1;32mIn [17]\u001b[1;36m\u001b[0m\n\u001b[1;33m    Answer_2 =\u001b[0m\n\u001b[1;37m               ^\u001b[0m\n\u001b[1;31mSyntaxError\u001b[0m\u001b[1;31m:\u001b[0m invalid syntax\n"
     ]
    }
   ],
   "source": [
    "Answer_2 = \n",
    "grader.Q2(Answer_2)"
   ]
  },
  {
   "cell_type": "markdown",
   "id": "7394da2d",
   "metadata": {},
   "source": [
    "Question_3:   104 // 10  = ? (10pts)"
   ]
  },
  {
   "cell_type": "code",
   "execution_count": 18,
   "id": "dba2174c",
   "metadata": {},
   "outputs": [
    {
     "ename": "SyntaxError",
     "evalue": "invalid syntax (4041473143.py, line 1)",
     "output_type": "error",
     "traceback": [
      "\u001b[1;36m  Input \u001b[1;32mIn [18]\u001b[1;36m\u001b[0m\n\u001b[1;33m    Answer_3 =\u001b[0m\n\u001b[1;37m               ^\u001b[0m\n\u001b[1;31mSyntaxError\u001b[0m\u001b[1;31m:\u001b[0m invalid syntax\n"
     ]
    }
   ],
   "source": [
    "Answer_3 = \n",
    "grader.Q3(Answer_3)"
   ]
  },
  {
   "cell_type": "markdown",
   "id": "bcc8f16c",
   "metadata": {},
   "source": [
    "Question_4:   11*2 // 7  = ? (10pts)"
   ]
  },
  {
   "cell_type": "code",
   "execution_count": 19,
   "id": "d399889b",
   "metadata": {},
   "outputs": [
    {
     "ename": "SyntaxError",
     "evalue": "invalid syntax (3091849694.py, line 1)",
     "output_type": "error",
     "traceback": [
      "\u001b[1;36m  Input \u001b[1;32mIn [19]\u001b[1;36m\u001b[0m\n\u001b[1;33m    Answer_4 =\u001b[0m\n\u001b[1;37m               ^\u001b[0m\n\u001b[1;31mSyntaxError\u001b[0m\u001b[1;31m:\u001b[0m invalid syntax\n"
     ]
    }
   ],
   "source": [
    "Answer_4 = \n",
    "grader.Q4(Answer_4)"
   ]
  },
  {
   "cell_type": "markdown",
   "id": "6b058cde",
   "metadata": {},
   "source": [
    "Question_5:   11-2 // 7  (10pts)"
   ]
  },
  {
   "cell_type": "code",
   "execution_count": 20,
   "id": "4f3434d5",
   "metadata": {},
   "outputs": [
    {
     "ename": "SyntaxError",
     "evalue": "invalid syntax (1976130085.py, line 1)",
     "output_type": "error",
     "traceback": [
      "\u001b[1;36m  Input \u001b[1;32mIn [20]\u001b[1;36m\u001b[0m\n\u001b[1;33m    Answer_5 =\u001b[0m\n\u001b[1;37m               ^\u001b[0m\n\u001b[1;31mSyntaxError\u001b[0m\u001b[1;31m:\u001b[0m invalid syntax\n"
     ]
    }
   ],
   "source": [
    "Answer_5 = \n",
    "grader.Q5(Answer_5)"
   ]
  },
  {
   "cell_type": "markdown",
   "id": "3348811f",
   "metadata": {},
   "source": [
    "Question_6:   11-2 %7  (10pts)"
   ]
  },
  {
   "cell_type": "code",
   "execution_count": 21,
   "id": "0906b450",
   "metadata": {},
   "outputs": [
    {
     "ename": "SyntaxError",
     "evalue": "invalid syntax (4185705558.py, line 1)",
     "output_type": "error",
     "traceback": [
      "\u001b[1;36m  Input \u001b[1;32mIn [21]\u001b[1;36m\u001b[0m\n\u001b[1;33m    Answer_6 =\u001b[0m\n\u001b[1;37m               ^\u001b[0m\n\u001b[1;31mSyntaxError\u001b[0m\u001b[1;31m:\u001b[0m invalid syntax\n"
     ]
    }
   ],
   "source": [
    "Answer_6 = \n",
    "grader.Q6(Answer_6)"
   ]
  },
  {
   "cell_type": "markdown",
   "id": "8e46b76d",
   "metadata": {},
   "source": [
    "# 3. Variable-integer"
   ]
  },
  {
   "cell_type": "markdown",
   "id": "1f0d056e",
   "metadata": {},
   "source": [
    "Question_7: You earned 10 dollars by helping mom doing housework. Then you spent 5 dollars to buy candies. How much you left? (5pts)"
   ]
  },
  {
   "cell_type": "code",
   "execution_count": 22,
   "id": "1563e8da",
   "metadata": {},
   "outputs": [
    {
     "ename": "SyntaxError",
     "evalue": "invalid syntax (4176526567.py, line 1)",
     "output_type": "error",
     "traceback": [
      "\u001b[1;36m  Input \u001b[1;32mIn [22]\u001b[1;36m\u001b[0m\n\u001b[1;33m    Answer_7 =\u001b[0m\n\u001b[1;37m               ^\u001b[0m\n\u001b[1;31mSyntaxError\u001b[0m\u001b[1;31m:\u001b[0m invalid syntax\n"
     ]
    }
   ],
   "source": [
    "Answer_7 = \n",
    "grader.Q7(Answer_7)"
   ]
  },
  {
   "cell_type": "markdown",
   "id": "5398775d",
   "metadata": {},
   "source": [
    "Question_8: You earned 10 dollars by helping mom doing housework. In the day 0, you put your money in the stock market. Starting from the day 1, the money increase 1 dollars each day. How much you will have in day 8? (5pts)"
   ]
  },
  {
   "cell_type": "code",
   "execution_count": 23,
   "id": "98ba84eb",
   "metadata": {},
   "outputs": [
    {
     "ename": "SyntaxError",
     "evalue": "invalid syntax (1684234773.py, line 1)",
     "output_type": "error",
     "traceback": [
      "\u001b[1;36m  Input \u001b[1;32mIn [23]\u001b[1;36m\u001b[0m\n\u001b[1;33m    Answer_8 =\u001b[0m\n\u001b[1;37m               ^\u001b[0m\n\u001b[1;31mSyntaxError\u001b[0m\u001b[1;31m:\u001b[0m invalid syntax\n"
     ]
    }
   ],
   "source": [
    "Answer_8 = \n",
    "grader.Q8(Answer_8)"
   ]
  },
  {
   "cell_type": "markdown",
   "id": "e1d6c996",
   "metadata": {},
   "source": [
    "Question_9 (In computer programming): \n",
    "<br>\n",
    "a = 18\n",
    "<br>\n",
    "a = a - 14\n",
    "<br>\n",
    "a = a - 2\n",
    "<br>\n",
    "a = a * 15\n",
    "<br>\n",
    "a = a / 6 (10pts)"
   ]
  },
  {
   "cell_type": "code",
   "execution_count": 24,
   "id": "5c1edb78",
   "metadata": {},
   "outputs": [
    {
     "ename": "SyntaxError",
     "evalue": "invalid syntax (201843379.py, line 1)",
     "output_type": "error",
     "traceback": [
      "\u001b[1;36m  Input \u001b[1;32mIn [24]\u001b[1;36m\u001b[0m\n\u001b[1;33m    a =\u001b[0m\n\u001b[1;37m        ^\u001b[0m\n\u001b[1;31mSyntaxError\u001b[0m\u001b[1;31m:\u001b[0m invalid syntax\n"
     ]
    }
   ],
   "source": [
    "a = \n",
    "grader.Q9(a)"
   ]
  },
  {
   "cell_type": "markdown",
   "id": "075e4711",
   "metadata": {},
   "source": [
    "Question_10 (In real math): (20pts)\n",
    "<br>\n",
    "4 * a = a + 15\n",
    "<br>\n",
    "3 * b + a = 17\n",
    "<br>\n",
    "(c-b)/2 = 10"
   ]
  },
  {
   "cell_type": "code",
   "execution_count": 25,
   "id": "aef65d63",
   "metadata": {},
   "outputs": [
    {
     "ename": "SyntaxError",
     "evalue": "invalid syntax (3737345880.py, line 1)",
     "output_type": "error",
     "traceback": [
      "\u001b[1;36m  Input \u001b[1;32mIn [25]\u001b[1;36m\u001b[0m\n\u001b[1;33m    a =\u001b[0m\n\u001b[1;37m        ^\u001b[0m\n\u001b[1;31mSyntaxError\u001b[0m\u001b[1;31m:\u001b[0m invalid syntax\n"
     ]
    }
   ],
   "source": [
    "a = \n",
    "b = \n",
    "c = \n",
    "grader.Q10(a,b,c)"
   ]
  },
  {
   "cell_type": "markdown",
   "id": "1cb52d23",
   "metadata": {},
   "source": [
    "# 4. Calculate your total score"
   ]
  },
  {
   "cell_type": "code",
   "execution_count": 26,
   "id": "0bf4054e",
   "metadata": {},
   "outputs": [
    {
     "name": "stdout",
     "output_type": "stream",
     "text": [
      "Your total grade is: 0\n"
     ]
    }
   ],
   "source": [
    "grader.total_score()"
   ]
  },
  {
   "cell_type": "code",
   "execution_count": 4,
   "id": "55bc6074-3a15-4016-9b83-4108edf802cd",
   "metadata": {},
   "outputs": [],
   "source": [
    "# 5.(Optional) celsius to fahrenheit\n",
    "#(0°C × 9/5) + 32 = 32°F\n",
    "# F = ?\n",
    "# C = ?"
   ]
  },
  {
   "cell_type": "code",
   "execution_count": null,
   "id": "402ca679-284f-4ad6-86e9-1e64672a5652",
   "metadata": {},
   "outputs": [],
   "source": []
  }
 ],
 "metadata": {
  "kernelspec": {
   "display_name": "Python [conda env:base] *",
   "language": "python",
   "name": "conda-base-py"
  },
  "language_info": {
   "codemirror_mode": {
    "name": "ipython",
    "version": 3
   },
   "file_extension": ".py",
   "mimetype": "text/x-python",
   "name": "python",
   "nbconvert_exporter": "python",
   "pygments_lexer": "ipython3",
   "version": "3.11.9"
  }
 },
 "nbformat": 4,
 "nbformat_minor": 5
}
