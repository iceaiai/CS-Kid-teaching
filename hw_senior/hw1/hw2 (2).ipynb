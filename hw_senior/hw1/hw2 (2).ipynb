{
  "nbformat": 4,
  "nbformat_minor": 0,
  "metadata": {
    "colab": {
      "provenance": [],
      "authorship_tag": "ABX9TyO+LPY4gjRS4m7/nZ9wmiEz",
      "include_colab_link": true
    },
    "kernelspec": {
      "name": "python3",
      "display_name": "Python 3"
    },
    "language_info": {
      "name": "python"
    }
  },
  "cells": [
    {
      "cell_type": "markdown",
      "metadata": {
        "id": "view-in-github",
        "colab_type": "text"
      },
      "source": [
        "<a href=\"https://colab.research.google.com/github/iceaiai/CS-Kid-teaching/blob/main/hw_junior%20/hw2.ipynb\" target=\"_parent\"><img src=\"https://colab.research.google.com/assets/colab-badge.svg\" alt=\"Open In Colab\"/></a>"
      ]
    },
    {
      "cell_type": "markdown",
      "source": [
        "##Age in Future\n",
        "##Write a Python program that:\n",
        "\n",
        "Prompts the user to enter their current age.\n",
        "Prints the user's age in 10 years.\n",
        "\n",
        "![image.png](data:image/png;base64,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)\n"
      ],
      "metadata": {
        "id": "-xUSCKrxiVI4"
      }
    },
    {
      "cell_type": "code",
      "execution_count": null,
      "metadata": {
        "id": "c19ySgxtiIC_"
      },
      "outputs": [],
      "source": []
    },
    {
      "cell_type": "markdown",
      "source": [
        "#BMI Calculator\n",
        "#Write a Python program that calculates the Body Mass Index (BMI):\n",
        "\n",
        "###Prompt the user for their height in meters and weight in kilograms.\n",
        "###Calculate the BMI using the formula: BMI = weight / (height ** 2).\n",
        "###Print the resulting BMI value.\n",
        "![image.png](data:image/png;base64,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)"
      ],
      "metadata": {
        "id": "GqJvpYfTiqxB"
      }
    },
    {
      "cell_type": "code",
      "source": [],
      "metadata": {
        "id": "65mAdZhPi1PP"
      },
      "execution_count": null,
      "outputs": []
    },
    {
      "cell_type": "markdown",
      "source": [
        "##Temperature Converter\n",
        "##Write a Python program that:\n",
        "\n",
        "###Takes a temperature in Fahrenheit from the user.\n",
        "###Converts it to Celsius using the formula: C = (F - 32) * 5/9.\n",
        "###Prints the result in Celsius\n",
        "![image.png](data:image/png;base64,iVBORw0KGgoAAAANSUhEUgAAAV4AAACjCAYAAADCUHZpAAAAAXNSR0IArs4c6QAAAARnQU1BAACxjwv8YQUAAAAJcEhZcwAADsMAAA7DAcdvqGQAABJvSURBVHhe7d19iFX1vsfxr/YglCOl3eNj1nUy7I+Q4aQeooty1OD+kZZpD2ZWIyel4kAOojgIgszBaTAhCjJw6phJOPag/hNnpst4k85Vi7A/OpKjplnqvXpPqAUGt7nr89vrN7P2mqe9Z9b+zYy+X7CavZ4f92f91m9t+w1pjRgAIJih8V8AQCAELwAERvACQGBXXfCe27XERoyos4NxPwAMNC54c2E1opOOAAOArCVKvOus6eJFu5jXrbLp8VgAQDao4wWAwAheAAisgOA9aHWq732mwc7FQ5xDda4euO5Q3O+nS3a1yRri3HhNf7A2MY1fbrw837UvN8fNo+X90GBLEtN12K4upOuxl+xKzNVhXwCgdAoI3um26h9bbd5Hy2xbMmRnb7B59Udt1bTckHO7XjP7NFE/rHlq5uQHXGTD7BG274+JaaLlVj0TheLrd9rReN6j9fOi6ZZYww/xTN43r9mStWab/DouNtm6aP7JPYSvQnty5dT2OuxovVY5ucO2AUAQ+ifDZxueai0rK+vYbTyg0U5umldaNcR9Xrqz9WxuVJcObEwu40DrK6llipum7KnWnafjAU5u2qca2teQmy63/jynd7Y+FU37ysFcb3I7ndR4r8N0ABBI979qWN3+m4bRCzfZ1kc22Gu1dVZVabb1L4tsdDyu3TlreKb9cX5OTTTom5N5pdF1f8z/ncQd5fOi/061O8bn+rtVPbPjryzG3xHNbXb4ZOel13N/3217HtlqS+OSuTf6DjeXnUyXqgGgxIp4uTbaFv0lekSv2WBWv8kWpYIyV2872XY/dLQtuJuq45H96OSxPWaqjohvBm3d7Gg/AKAfFBG8UWl27TKzR+bZnsqq/PrXQ3VR6Xaebf3HRdu+sGM5OISpd3S+Xleijkq8vv44v9ve4QYCAKVWcPCe21Vlyz5aZ3/+6/aoJLvHlq3t6dcEB22fqhqyVLMvWmrKoX22webZnePi/hRXpfDRbvtPqhQADBCFBe8PDVZVucfWfZr7l2zTV+d+TVDlfxUw7s4o+vbY7r+3R/HB2jlRIGZtg81J/kRNPy1TlUH1n7suuU5balsfiW4U96T++XM0b53ffn5OBiCgRPBGoZauBx2xxBq+jMLtnmW2p7qp7adj+onZ0npVOUzOhdX4Rbb903Wu38+rn4xlXscbbcPR8tfaty/aLqs/mvcSsKPRtuiv2pbU/t3znc3sp2oRANe2QdMChV7ezbGmHkIWAAa+Il6uAQCyQPACQGAELwAERivDABAYJV4ACIzgBYDACF4ACIzgBYDACF4ACIzgBYDACF4ACIzgBYDACF4ACIzgBYDACF4ACIzgBYDACF4ACCzv/0526NAh+/jjj93f8+fPx0MBAFlqC95NmzbZe++9Z5cvX7YhQ4bY9ddfbzfccIObCACQHRe8Ct133nnHfvnlF7v55ptt6FBqIACgVIaqWmH79u32888/W1lZGaELACU2VHW6ly5dsuHDh8eDAACl5Eq8KuVS0gWAMIbq1wu8RAOAcFwxl+AFgHCoXwCAwAheAAiM4AWAwAheAAiM4AWAwAheAAiM4AWAwAheAAjsurFjx65P/C95B4RZy2vsiX89afu/+Wc8pEB3PWZrqhbbv8+ebredut7+repPdt///Yd9cbIPywSAjF1VJd5Zs6eafVVv1dUbbWdLs71ZXW1v7otHAsAAcdVVNfz0P8fiTwAwMA2pqKho/e233+LevtHj/B8uHLafKqba7RpwqtGqt5itqJmb6G/WJ0fTz50Y91w6bPUbd5piM7ecetu4K+qbucJqHrzdvv+bL73Oal+eXbLDb6t0W26Pram0qWVuYLys/7a5NX+w/3XjU8uMJNd9KSol++EAUGqZl3jLKkbakegRv7q60b6fONdqaqbk9a+YGU8YBegUi4LYjau3wzbVFi0sj8fFVGf74C1RuPrQVcDONYtC2M339nGb9NyKaEnHbOfGams8ZS6gq+MA70r5wjU2N7Hu43dVJrYLAEor8+C99FWj5cq0zXYkCsJ0/y3/4sO12d5sK/0esy9bLsWfvd/biuem2k9/y5VYnZlzo3g+bI2+3rblSzt+6Rb73V1xf0Fm2dwKs8Of5q+7fbsAoLT6tY5XJc+amhrXVVb4eoKcMlVXnGrs+HKsbKpVxvPU1Kh6ocxGjo/HFazMpj7nl5Fbd9moXOUFAJRavwWvQrdy1H/Fj/vVVv9VfolXJeXDt861NenqB9UTx/P4rvhfLnxvjallJOueAaCU+i14bx9VZpcufB/3ldvv78ov8Socd25stJ8qKtvDd9+RVD1xb6jK43abu3xW3A8AYfVb8DZvyYVq7nF/kY38Z7qOV5rtzbcPm2k6F5S5/lsebK8mqFnzWBTbxWneUu9K023LqFljjxVVTwwAvZfpz8kAAD3r15drAHAtIngBIDCCFwACI3gBIDCCFwACI3gBIDCCFwACI3gBIDCCFwACI3gBIDCCFwACI3gBIDCCFwACc/93spYW37YOAKDUKPECQGAELwAERvACQGAELwAERvACQGAELwAERvACQGAELwAERvACQGAELwAERvACQGAELwAERvACQGAELwAERvACQGAELwAERvACQGAELwAERvACQGAELwAERvACQGAELwAERvACQGAELwAERvACQGCZB+/MmTPtyJEjdvHixbxOwzTuapPe38728/XXX8/kWFRXV9v58+fblqPlAhh8hlRUVLS2tLTEvdk6ePCg+zt9+nT3tz+UchsUnlu2bHEh6JefXp/CccGCBbZy5Up7//33O52nEHv27LH777/fNm/ebDU1NfFQAIMRVQ198MADD9iIESNs9+7d8RBznydMmOBKpzJx4kQXsmfOnHH9+/btc/3FeOKJJ+zee+8ldIGrRL8Er0pvKhnqr0JInS8pioLmxIkTrrT4448/tk2TfLTWvMlHdv1Vv4aLlqd5pkyZ4jq/DC1Py0/y29GbR/crV67YsWPH4j5r+zx27Fj3d8eOHS6cVcrVNmodkyZNygvrnijgtZ79+/fHQwAMZv1W4lUYjhkzxoVSbW2tC6Nk8A0bNswF5BtvvOGmaW5udo/s6dDsih7jNZ/CWJ0+qxs3bpx75M+CQlbbuXjx4niIuc/Dhw+P+8ytS+tUsO/du9ftw0svvVRUydWXmuvq6tpuIL2tJwbQ//oteFXyXLVqlfuskpxeGilgkhRaPqBUclSpr7y83PVnad68eS6UFYjF0PbpxqC6Vx+It956q12+fDmeor0kruU/9NBDdvr0aXvrrbeKLl3rRqVSvF+OKIgBDD6Dqo5XpUv/CD9Q6MZw2223tZWoP/nkEzfc1+lWVVW54evXr3f1uyqJK4jnzJlTVIlV8/gbg5bT1NTk6pILfQIAMHAMmuD1JV0faAPVjBkzXMnX18eqOkX9ye0+e/Zs/Kkwp06dcuGdDur0cgEMDoMmeOfPn58XaD6MfAlYj92qS01TyPVUMuzLy7UkLUfVDu+++64rlYqqB1Qi1gsy0Xbcd999bn1+GtFwVb+oysX/IsLTPmtfFy1a5PoVwCoxf/vtt3nLADA4ZB68vk5TwaJ6SXX63JuXQUuXLnXzqhMtywdNQ0ODG676Uv1VwGodaZs2bcqbrrNfNfSF//WEurvvvtseffTRvBdnqh74/PPPbfXq1W3boXreYn7D6+uStd1ahl7SKXRVNw1g8CnpP6DoLQXMq6++ah9++GHRL7wAYKAbVC/XAOBqQPACQGADsqoBAK5mlHgBIDCCFwACI3gBIDCCFwACI3gBIDCCFwACI3gBIDCCFwACI3gBIDCCFwACI3gBIDCCFwACI3gBILDMg1fN5/gWGdSpOZxrUfo4JDu1WoH+peaV1MxSKa9Pv47ennffJJW6vrSc4luF6U0rMKGkj1W6Cayuvk+dNZXVnfR6+iufMg1eHRxdHLW1ta6NMP1VG2TF7pwOji60Yg5osbSdWkdf21nrilrO0DFQ19zc7NalZtnVX0yzP4NJiPM2WOgYvPzyy67ZJ38dKHiLud7UtJPm27ZtWzzk6pVurVvH7emnn267USS/T77Tcfn111/t2LFjbpqe6Dv/4osvuqa0NL/Pp1JlQHcyC14dIDXAqAPm2xzTX/WrLbKBeqfFtcl/0UvRbp2udYXG8ePH85av8OiPpqzUTqHaK0y2WTjQpRuzTfN588UXX7ggLcTixYtdKVftNYquAZ0jLSd0PmUWvGpFVwfqwIED8ZAc9Wu4xndWytRnDdM4lRL0GKCGIYcPH97WQGTykUDTnThxom0+Pz65TE2bfKzSX/VruN8GNTqpdSQb1Ew/Cvr5/PaVgt9nvw3JpwPtk9b/9ddfu3GNjY2uX5/9/vpp6uvr25aR3l6/H368PicvNG2DjunatWvbjmlPy0g+4hV63rTM5HnS5+R6erMd6X3pid+O9PZ5fvk6nsn1JLe7J/67sHv37nhI57o794VKLyN9vJKNsXZ2rLTO5HC//8lt8cP8ctR1djw0T1fjiqWnQjUK21WoqsVt3TjTedMV7YMKgMmWuXXsJk2a1G3Al0qmVQ1XrlwpuNjfGV8K0SPA5cuX26os1CVLDsOGDXMXl1re1Tg9yi9YsCDvguuKTqSagX/++efdOrZFjyt+HaGrAHTi9TjqH320TWr6PXnRa1u/++47t48zZsywpqYm9yVIbqum0SOTqjLU6eJfuXKlG6cLbsuWLW6Y30991jD/ZZOysjJbs2aNa2BU0+ii98uQF154wTVb75ehkoJ/FCz0vBWiu+0odF+648+/jpNCqisLFy50x1rrKOb6En2Jb7zxxrivc4Wc+55oe5KPzuq0b+r3dJ34feiturq6vGOurhQldwW21uPXtWrVqnhMR9ovXYO69oqhkrToOPtjJ+Xl5e5vKJm/XAtFB8wf9B07drjQz/rg+Ue09MWcFQWpLh5/EWsdenRKVs0oyLR/oqDQY5Kask/SNOvXr3fbq84Hhpah0pduVGq12VNJTOM1LmlbdBPy26J1+GXI448/nneRqySl8aUoKXS1HcXsS18pqPw2+FJVltdXIee+UCEKDBMmTOjxxuPrpP0+FUvzaX51uoY/+OADd4NK0zBtT09PFJ256aabXMFlzJgx7nt95syZPhcYeyPT4NWXorOLM8SOad2hHxf6Sidfwe7v8upmzZoVj+0bXbw6HupGjRrlqlb8OlQVkC6R6SWFLkJPXyJtW/KxLPlIqyqaUuhuOwrdl/6m7dd+dCeLc6+w1tOAQsgvo5gSc6EU7Hry8Mc9WTVRKipg6HrTDSpt/vz5bnuKLe2Kf5LxNytdU8qO0DIL3v3797uTkj5Q6lfwJr9MWfNhX8p1lIJKc7qI/V3ed8nA642JEye6c6Hjoe7ChQvuUTa5DlUNFHrh+kfa5Bv6bf3wpj2LfQnBFzI6Cw0vq3Ov8FXJTfOW8i29r7JQFY2o+iEEXzXgqQCgetlif5qnY6r6Xf/U6Om70l1dcqlkFrx+x3Ti/eOB/qpfdxiN1xdHgaCd9eM7e3wp5MJN0h1Qy1X4S/qNqC4SXZxJflu6e0zTXV1fjvQLi6zoEVYXUZZfFG2n6gr9SwQdE934kvW1xdKNTaVK/yXQOlTnmdbdeSv03Hcni30JwVcbqASbPLf67PtLce51/HsqaacV8l1J0jWl89iZLF+uVVVVue3y32lP15ZKwsnwTPMvFNOlfx1z3aS1bPH5VGyIZyHTqgY9FqpU5N9q6+XB5s2b2+p8dNIUwrogNd5XbuvLlKRhernip+vsICZ/jSDJkoJOiob7RyNfukjStHpZpIvfLyf0CVApTcdHAeS3QV2xj4v6JYHfV/3VsfMvtbSfy5cvdxdxch3FPC5qO3Ve/THXF+uzzz4r6rwVeu67k8W+aNs1z969e13A+O3J+tzr+G+LngqS16lu8v670NO59zd9DdMy/DlW6CQLNsnqH41X4Pt1aNkqNGic9lP7q/1OFiR6+q4kt8N3Ov7dvfjqDe13ch2q637yySfdNeL5oPQFuWL5Y65laB3KKS2/t3XSfTGkoqKitaWlJe4d+HTB6OWKvuD9ccAGGgWJSp8qBSYvUgAD16D9VQMADFYELwAENuiqGgBgsKPECwCBEbwAEBjBCwCBEbwAEBjBCwCBEbwAEBjBCwCBEbwAEBjBCwCBEbwAEBjBCwCBEbwAEBjBCwCBEbwAEBjBCwCBEbwAENhQtbrZH+3KA8C1aui0adNc090AgDCGPvzwwzZy5Ei77rrr4kEAgFJyJd5nn33Wxo8fT8kXAErO7P8BYjLgnJKK+EYAAAAASUVORK5CYII=)"
      ],
      "metadata": {
        "id": "SoZLKIxcjKMc"
      }
    },
    {
      "cell_type": "code",
      "source": [],
      "metadata": {
        "id": "J_rK14B6jULj"
      },
      "execution_count": null,
      "outputs": []
    },
    {
      "cell_type": "markdown",
      "source": [
        "##Convert Minutes to Hours\n",
        "##Write a Python program that:\n",
        "\n",
        "###Prompts the user to input a number of minutes.\n",
        "###Converts the input minutes into hours and minutes (e.g., 130 minutes = 2 hours, 10 minutes).\n",
        "![image.png](data:image/png;base64,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)"
      ],
      "metadata": {
        "id": "sRvuafUDjU00"
      }
    },
    {
      "cell_type": "code",
      "source": [],
      "metadata": {
        "id": "qenXTDPgjnZE"
      },
      "execution_count": null,
      "outputs": []
    },
    {
      "cell_type": "markdown",
      "source": [
        "#String to Integer (str to int)"
      ],
      "metadata": {
        "id": "diH6Y1_djy1P"
      }
    },
    {
      "cell_type": "code",
      "source": [
        "string = '123'\n",
        "integer = # Your input\n",
        "print(integer)"
      ],
      "metadata": {
        "id": "LO1VFvswj306"
      },
      "execution_count": null,
      "outputs": []
    },
    {
      "cell_type": "markdown",
      "source": [
        "#Integer to String (int to str)"
      ],
      "metadata": {
        "id": "AtTY6C0BkA3q"
      }
    },
    {
      "cell_type": "code",
      "source": [
        "integer = 123\n",
        "string = # Your input\n",
        "print(string)"
      ],
      "metadata": {
        "id": "PoGeXv8BkEh5"
      },
      "execution_count": null,
      "outputs": []
    },
    {
      "cell_type": "markdown",
      "source": [
        "#Bolean"
      ],
      "metadata": {
        "id": "iMBmylaOkSLb"
      }
    },
    {
      "cell_type": "code",
      "source": [
        "a = 10\n",
        "b = 20\n",
        "print(a  b) # a > b, a < b or a == b to make the print True"
      ],
      "metadata": {
        "id": "1L-8yEsakY0u"
      },
      "execution_count": null,
      "outputs": []
    },
    {
      "cell_type": "code",
      "source": [
        "a = 10\n",
        "b = 10\n",
        "print(a  b) # a > b, a < b or a == b to make the print True"
      ],
      "metadata": {
        "id": "TVeSKTF4krD2"
      },
      "execution_count": null,
      "outputs": []
    },
    {
      "cell_type": "code",
      "source": [
        "a = 20\n",
        "b = 10\n",
        "print(a  b) # a > b, a < b or a == b to make the print False"
      ],
      "metadata": {
        "id": "foyTZ_o7kxoS"
      },
      "execution_count": null,
      "outputs": []
    }
  ]
}